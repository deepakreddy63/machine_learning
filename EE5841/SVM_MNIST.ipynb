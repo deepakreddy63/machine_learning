{
 "cells": [
  {
   "cell_type": "markdown",
   "metadata": {},
   "source": [
    "### SVM on MNIST data"
   ]
  },
  {
   "cell_type": "markdown",
   "metadata": {},
   "source": [
    "### Name: Deepak Reddy"
   ]
  },
  {
   "cell_type": "markdown",
   "metadata": {},
   "source": [
    "### Q1\n",
    "### Multiclass classification is different when we use linear kernel for SVC and linear SVC. \n",
    "\n",
    " In SVC, multiclass classification is done by one Vs one method, where the two datasets of the two classes is taken seperately and classifer is constructed. If there are n classes, n*(n-1)/2 such classifiers are constructed with train data frm the two considered classes. Finally, to compare the output with other classifiers such as linear SVC, we need to aggregate all one Vs one classifiers.\n",
    " \n",
    "In case of linear SVC, multiclass classification is done using one Vs rest method, where each class is treated seperately from rest of the classes. Data is split in to two sets based on the data from that class and data not from that class. Finally, we have n such classifiers trained for n classes."
   ]
  },
  {
   "cell_type": "markdown",
   "metadata": {},
   "source": [
    "### (i) Loading MNIST data and training classifiers for range of C values for linear SVM"
   ]
  },
  {
   "cell_type": "code",
   "execution_count": 1,
   "metadata": {
    "collapsed": true
   },
   "outputs": [],
   "source": [
    "from mnist import MNIST\n",
    "import numpy as np\n",
    "import random\n",
    "import time\n",
    "import pandas as pd\n",
    "from sklearn.metrics import confusion_matrix\n",
    "from matplotlib import pyplot as plt"
   ]
  },
  {
   "cell_type": "code",
   "execution_count": 2,
   "metadata": {
    "collapsed": true
   },
   "outputs": [],
   "source": [
    "mndata = MNIST('MNIST')"
   ]
  },
  {
   "cell_type": "code",
   "execution_count": 3,
   "metadata": {
    "collapsed": true
   },
   "outputs": [],
   "source": [
    "images_train, labels_train = mndata.load_training()\n",
    "images_test, labels_test = mndata.load_testing()\n",
    "images_train  = np.asarray(images_train)/255\n",
    "images_test  = np.asarray(images_test)/255\n",
    "labels_train = np.asarray(labels_train)\n",
    "labels_test = np.asarray(labels_test)"
   ]
  },
  {
   "cell_type": "code",
   "execution_count": 147,
   "metadata": {},
   "outputs": [
    {
     "name": "stdout",
     "output_type": "stream",
     "text": [
      "Time to train for all C's : 604.3811321783505\n"
     ]
    }
   ],
   "source": [
    "from sklearn.svm import LinearSVC\n",
    "models = []\n",
    "C = [0.001, 0.01, 0.1, 1, 10, 100, 1000, 10000]\n",
    "start = time.clock()\n",
    "for i in range(len(C)):\n",
    "    #indices = np.random.choice(labels_train.shape[0], 30000, replace = False)\n",
    "    lin_clf = LinearSVC(C = C[i], dual = False)\n",
    "    lin_clf.fit(images_train, labels_train)\n",
    "\n",
    "    models.append(lin_clf)\n",
    "end = time.clock()\n",
    "print(\"Time to train for all C's :\", end-start)\n",
    "\n",
    "# save the model to disk\n",
    "import pickle\n",
    "filename = 'finalized_model.txt'\n",
    "pickle.dump(models, open(filename, 'wb'))"
   ]
  },
  {
   "cell_type": "code",
   "execution_count": 91,
   "metadata": {},
   "outputs": [
    {
     "name": "stdout",
     "output_type": "stream",
     "text": [
      "8\n"
     ]
    }
   ],
   "source": [
    "# load the model from disk\n",
    "import pickle\n",
    "loaded_models = pickle.load(open('finalized_model.txt', 'rb'))\n",
    "result = len(loaded_models)\n",
    "print(result)"
   ]
  },
  {
   "cell_type": "code",
   "execution_count": 20,
   "metadata": {
    "collapsed": true
   },
   "outputs": [],
   "source": [
    "def pred_accuracy(i):\n",
    "    lin_clf = loaded_models[i]\n",
    "    pred_train = lin_clf.predict(images_train)\n",
    "    accuracy_train = np.sum(1*(labels_train == pred_train))/labels_train.shape[0]\n",
    "    \n",
    "    pred_test = lin_clf.predict(images_test)\n",
    "    accuracy_test = np.sum(1*(labels_test == pred_test))/labels_test.shape[0]\n",
    "    print(\"Train_accuracy = %0.4f, Test_accuracy: %0.4f for C = %0.3f,\" %(accuracy_train, accuracy_test, C[i]))\n",
    "    return (accuracy_train, accuracy_test)"
   ]
  },
  {
   "cell_type": "code",
   "execution_count": 101,
   "metadata": {
    "collapsed": true
   },
   "outputs": [],
   "source": [
    "from sklearn.svm import LinearSVC\n",
    "lin_clf1 = LinearSVC(C = C[3], dual = False)\n",
    "lin_clf1.fit(images_train, labels_train)\n",
    "pred_test = lin_clf1.predict(images_test)"
   ]
  },
  {
   "cell_type": "code",
   "execution_count": 102,
   "metadata": {},
   "outputs": [
    {
     "name": "stdout",
     "output_type": "stream",
     "text": [
      "Confusion matrix\n",
      "Predicted    0     1    2    3    4    5    6    7    8    9\n",
      "Actual                                                      \n",
      "0          962     0    2    1    1    4    5    3    1    1\n",
      "1            0  1112    3    2    0    1    5    1   11    0\n",
      "2           11    11  914   18   10    4   13   12   36    3\n",
      "3            4     0   19  918    2   22    5   12   20    8\n",
      "4            1     4    5    4  913    0    9    3    5   38\n",
      "5            9     2    0   39   12  768   18    7   29    8\n",
      "6            7     4    7    2    5   21  909    1    2    0\n",
      "7            2     8   23    5    7    1    1  948    4   29\n",
      "8           11    13    8   21   14   31    8   13  843   12\n",
      "9            7     8    2   15   31   12    0   26   12  896\n",
      " \n",
      "Accuracy matrix from confusion matrix:\n",
      "[[ 98.2   0.    0.2   0.1   0.1   0.4   0.5   0.3   0.1   0.1]\n",
      " [  0.   98.    0.3   0.2   0.    0.1   0.4   0.1   1.    0. ]\n",
      " [  1.1   1.1  88.6   1.7   1.    0.4   1.3   1.2   3.5   0.3]\n",
      " [  0.4   0.    1.9  90.9   0.2   2.2   0.5   1.2   2.    0.8]\n",
      " [  0.1   0.4   0.5   0.4  93.    0.    0.9   0.3   0.5   3.9]\n",
      " [  1.    0.2   0.    4.4   1.3  86.1   2.    0.8   3.3   0.9]\n",
      " [  0.7   0.4   0.7   0.2   0.5   2.2  94.9   0.1   0.2   0. ]\n",
      " [  0.2   0.8   2.2   0.5   0.7   0.1   0.1  92.2   0.4   2.8]\n",
      " [  1.1   1.3   0.8   2.2   1.4   3.2   0.8   1.3  86.6   1.2]\n",
      " [  0.7   0.8   0.2   1.5   3.1   1.2   0.    2.6   1.2  88.8]]\n"
     ]
    }
   ],
   "source": [
    "#Output confusion matrix \n",
    "y_actu = pd.Series(labels_test, name='Actual')\n",
    "y_pred = pd.Series(pred_test, name='Predicted')\n",
    "df_confusion = pd.crosstab(y_actu, y_pred)\n",
    "print(\"Confusion matrix\")\n",
    "print(df_confusion)\n",
    "\n",
    "print(\" \")\n",
    "print(\"Accuracy matrix from confusion matrix:\")\n",
    "p = confusion_matrix(y_actu, y_pred)\n",
    "a = np.zeros((p.shape))\n",
    "for i in range(10):\n",
    "    a[i] = np.float16(p[i])/p[i].sum()\n",
    "a = np.around(a, decimals=3)\n",
    "print(a*100)"
   ]
  },
  {
   "cell_type": "markdown",
   "metadata": {},
   "source": [
    "### Plotting Train accuracy and Test accuracy for different values of C"
   ]
  },
  {
   "cell_type": "code",
   "execution_count": 95,
   "metadata": {
    "scrolled": false
   },
   "outputs": [
    {
     "name": "stdout",
     "output_type": "stream",
     "text": [
      "Train_accuracy = 0.9087, Test_accuracy: 0.9128 for C = 0.001,\n",
      "Train_accuracy = 0.9196, Test_accuracy: 0.9170 for C = 0.010,\n",
      "Train_accuracy = 0.9248, Test_accuracy: 0.9181 for C = 0.100,\n",
      "Train_accuracy = 0.9263, Test_accuracy: 0.9183 for C = 1.000,\n",
      "Train_accuracy = 0.9270, Test_accuracy: 0.9169 for C = 10.000,\n",
      "Train_accuracy = 0.9275, Test_accuracy: 0.9166 for C = 100.000,\n",
      "Train_accuracy = 0.9275, Test_accuracy: 0.9166 for C = 1000.000,\n",
      "Train_accuracy = 0.9275, Test_accuracy: 0.9167 for C = 10000.000,\n"
     ]
    },
    {
     "data": {
      "image/png": "[encoded data removed]",
      "text/plain": [
       "<matplotlib.figure.Figure at 0x2891f30bb38>"
      ]
     },
     "metadata": {},
     "output_type": "display_data"
    }
   ],
   "source": [
    "C = [0.001, 0.01, 0.1, 1, 10, 100, 1000, 10000]\n",
    "pred_train = np.zeros(len(C))\n",
    "pred_test = np.zeros(len(C))\n",
    "for i in range(len(C)):\n",
    "    pred_tr, pred_tst = pred_accuracy(i)\n",
    "    pred_train[i] = pred_tr\n",
    "    pred_test[i] = pred_tst\n",
    "\n",
    "plt.plot(np.log10(C), pred_train, 'r',np.log10(C), pred_test, 'b', )\n",
    "#plt.ylim((0.91,0.93))\n",
    "plt.ylabel('Accuracy')\n",
    "plt.text(1, 0.923, r'Train accuracy-Red', color='red') \n",
    "plt.text(1, 0.92, r'Test accuracy -Blue', color='blue')\n",
    "plt.xlabel('log10(C)')\n",
    "plt.title('Accuracy Vs C -- logscale')\n",
    "plt.show()"
   ]
  },
  {
   "cell_type": "markdown",
   "metadata": {},
   "source": [
    "### Comments\n",
    "From the above plot, it can be seen that as we increase C value, the training accuracy increases as the model is overfitting with increase in variance value.\n",
    "\n",
    "In terms of bias, for low values of C, till we reach C = 0, the testing accuracy increases and  decreases later for values of C higher than 1. This shows that the model has bias problem till for values of C < 1.\n",
    "\n",
    "Therefore from the above plot we select C = 1 as the best value as it gives the best trade off between bias and variance. \n",
    "\n",
    "#### The highest accuracy is 91.83 at C = 1 for linear SVM "
   ]
  },
  {
   "cell_type": "markdown",
   "metadata": {},
   "source": [
    "### (ii) Images for 10 coef_ outputs of classifier for C = 1"
   ]
  },
  {
   "cell_type": "code",
   "execution_count": 25,
   "metadata": {},
   "outputs": [
    {
     "name": "stdout",
     "output_type": "stream",
     "text": [
      "LinearSVC(C=1, class_weight=None, dual=False, fit_intercept=True,\n",
      "     intercept_scaling=1, loss='squared_hinge', max_iter=1000,\n",
      "     multi_class='ovr', penalty='l2', random_state=None, tol=0.0001,\n",
      "     verbose=0)\n",
      "Coefficient matrix shape:  (10, 784)\n"
     ]
    }
   ],
   "source": [
    "# load the model from disk\n",
    "import pickle\n",
    "loaded_models = pickle.load(open('finalized_model.txt', 'rb'))\n",
    "\n",
    "#Getting the Linear SVC model from the saved models for C = 1\n",
    "lin_clf1 = loaded_models[3]\n",
    "print(lin_clf1)\n",
    "print(\"Coefficient matrix shape: \", lin_clf1.coef_.shape)"
   ]
  },
  {
   "cell_type": "code",
   "execution_count": 59,
   "metadata": {
    "scrolled": false
   },
   "outputs": [
    {
     "data": {
      "image/png": "[encoded data removed]",
      "text/plain": [
       "<matplotlib.figure.Figure at 0x289252b6ac8>"
      ]
     },
     "metadata": {},
     "output_type": "display_data"
    }
   ],
   "source": [
    "fig, ax = plt.subplots(nrows=2, ncols=5, figsize = (20,10))\n",
    "for i in range(lin_clf1.coef_.shape[0]):\n",
    "   \n",
    "    plt.subplot(2, 5, i+1)\n",
    "    W = lin_clf1.coef_[i]\n",
    "    plt.title('Coeff image for class= %d ' %i)\n",
    "    plt.imshow(np.reshape(W, (28,28)))\n",
    "plt.show()"
   ]
  },
  {
   "cell_type": "markdown",
   "metadata": {},
   "source": [
    "### Comments\n",
    "The images vaguely resemble the class label. They are not that similar to ones in logistic regression\n",
    "\n",
    "When compared with logistic regression images, the images are pixelated at the boundaries of label shape and the boundary is much more distinct for labels. For logistic regression images, the image labels were distributed and smooth.\n",
    "\n",
    "We observe this change in images as the method of evaluating the coefficient vectors is different for SVM and logitic regression. In case of logistic regression, we optimize the loss function with probabilities and in case of SVM, we optimize the function with the distances from the hyperplane."
   ]
  },
  {
   "cell_type": "markdown",
   "metadata": {},
   "source": [
    "### (iii) Changing the penalty parameter to l1"
   ]
  },
  {
   "cell_type": "code",
   "execution_count": 152,
   "metadata": {},
   "outputs": [
    {
     "name": "stdout",
     "output_type": "stream",
     "text": [
      "Time to train for all C's : 1647.9877320349801\n"
     ]
    }
   ],
   "source": [
    "from sklearn.svm import LinearSVC\n",
    "models = []\n",
    "C = [0.001, 0.01, 0.1, 1, 10, 100, 1000, 10000]\n",
    "start = time.clock()\n",
    "for i in range(len(C)):\n",
    "    \n",
    "    lin_clf = LinearSVC(C = C[i], dual = False, penalty='l1')\n",
    "    lin_clf.fit(images_train, labels_train)\n",
    "\n",
    "    models.append(lin_clf)\n",
    "end = time.clock()\n",
    "print(\"Time to train for all C's :\", end-start)\n",
    "# save the model to disk\n",
    "import pickle\n",
    "filename = 'finalized_model_l1.txt'\n",
    "pickle.dump(models, open(filename, 'wb'))"
   ]
  },
  {
   "cell_type": "code",
   "execution_count": 36,
   "metadata": {},
   "outputs": [
    {
     "name": "stdout",
     "output_type": "stream",
     "text": [
      "8\n"
     ]
    }
   ],
   "source": [
    "# load the model from disk\n",
    "loaded_models_l1 = pickle.load(open('finalized_model_l1.txt', 'rb'))\n",
    "result = len(loaded_models_l1)\n",
    "print(result)"
   ]
  },
  {
   "cell_type": "code",
   "execution_count": 107,
   "metadata": {
    "collapsed": true
   },
   "outputs": [],
   "source": [
    "from sklearn.svm import LinearSVC\n",
    "lin_clf1_l1 = LinearSVC(C = C[2], dual = False)\n",
    "lin_clf1_l1.fit(images_train, labels_train)\n",
    "pred_test = lin_clf1_l1.predict(images_test)"
   ]
  },
  {
   "cell_type": "code",
   "execution_count": 108,
   "metadata": {},
   "outputs": [
    {
     "name": "stdout",
     "output_type": "stream",
     "text": [
      "Confusion matrix\n",
      "Predicted    0     1    2    3    4    5    6    7    8    9\n",
      "Actual                                                      \n",
      "0          959     0    2    2    1    4    7    3    1    1\n",
      "1            0  1112    3    2    0    1    5    1   11    0\n",
      "2           10    10  916   18   10    5   12   11   36    4\n",
      "3            4     0   18  922    2   21    4   11   19    9\n",
      "4            1     4    4    2  913    0   10    2    6   40\n",
      "5            9     2    1   40   12  767   17    7   29    8\n",
      "6           10     3    7    2    6   21  907    1    1    0\n",
      "7            2     9   23    5    9    1    1  946    4   28\n",
      "8           11    14    7   20   15   31    9   13  841   13\n",
      "9            7     8    2   14   33   12    0   24   11  898\n",
      " \n",
      "Accuracy matrix from confusion matrix:\n",
      "[[ 97.9   0.    0.2   0.2   0.1   0.4   0.7   0.3   0.1   0.1]\n",
      " [  0.   98.    0.3   0.2   0.    0.1   0.4   0.1   1.    0. ]\n",
      " [  1.    1.   88.8   1.7   1.    0.5   1.2   1.1   3.5   0.4]\n",
      " [  0.4   0.    1.8  91.3   0.2   2.1   0.4   1.1   1.9   0.9]\n",
      " [  0.1   0.4   0.4   0.2  93.    0.    1.    0.2   0.6   4.1]\n",
      " [  1.    0.2   0.1   4.5   1.3  86.    1.9   0.8   3.3   0.9]\n",
      " [  1.    0.3   0.7   0.2   0.6   2.2  94.7   0.1   0.1   0. ]\n",
      " [  0.2   0.9   2.2   0.5   0.9   0.1   0.1  92.    0.4   2.7]\n",
      " [  1.1   1.4   0.7   2.1   1.5   3.2   0.9   1.3  86.3   1.3]\n",
      " [  0.7   0.8   0.2   1.4   3.3   1.2   0.    2.4   1.1  89. ]]\n"
     ]
    }
   ],
   "source": [
    "#Output confusion matrix \n",
    "y_actu = pd.Series(labels_test, name='Actual')\n",
    "y_pred = pd.Series(pred_test, name='Predicted')\n",
    "df_confusion = pd.crosstab(y_actu, y_pred)\n",
    "print(\"Confusion matrix\")\n",
    "print(df_confusion)\n",
    "\n",
    "print(\" \")\n",
    "print(\"Accuracy matrix from confusion matrix:\")\n",
    "p = confusion_matrix(y_actu, y_pred)\n",
    "a = np.zeros((p.shape))\n",
    "for i in range(10):\n",
    "    a[i] = np.float16(p[i])/p[i].sum()\n",
    "a = np.around(a, decimals=3)\n",
    "print(a*100)"
   ]
  },
  {
   "cell_type": "code",
   "execution_count": 156,
   "metadata": {},
   "outputs": [
    {
     "name": "stdout",
     "output_type": "stream",
     "text": [
      "Train_accuracy = 0.8521, Test_accuracy: 0.8579 for C = 0.001,\n",
      "Train_accuracy = 0.9066, Test_accuracy: 0.9080 for C = 0.010,\n",
      "Train_accuracy = 0.9214, Test_accuracy: 0.9188 for C = 0.100,\n",
      "Train_accuracy = 0.9260, Test_accuracy: 0.9184 for C = 1.000,\n",
      "Train_accuracy = 0.9274, Test_accuracy: 0.9173 for C = 10.000,\n",
      "Train_accuracy = 0.9278, Test_accuracy: 0.9166 for C = 100.000,\n",
      "Train_accuracy = 0.9279, Test_accuracy: 0.9163 for C = 1000.000,\n",
      "Train_accuracy = 0.9280, Test_accuracy: 0.9160 for C = 10000.000,\n"
     ]
    },
    {
     "data": {
      "image/png": "[encoded data removed]",
      "text/plain": [
       "<matplotlib.figure.Figure at 0x241a676c8d0>"
      ]
     },
     "metadata": {},
     "output_type": "display_data"
    }
   ],
   "source": [
    "pred_train = np.zeros(len(C))\n",
    "pred_test = np.zeros(len(C))\n",
    "for i in range(len(C)):\n",
    "    pred_tr, pred_tst = pred_accuracy(i)\n",
    "    pred_train[i] = pred_tr\n",
    "    pred_test[i] = pred_tst\n",
    "\n",
    "plt.plot(np.log10(C), pred_train, 'r',np.log10(C), pred_test, 'b', )\n",
    "plt.ylabel('Accuracy')\n",
    "plt.text(-1, 0.89, r'Train accuracy-Red', color='red') \n",
    "plt.text(-1, 0.88, r'Test accuracy -Blue', color='blue')\n",
    "plt.xlabel('C')\n",
    "plt.title('Accuracy Vs C(10^)-log scale')\n",
    "plt.show()"
   ]
  },
  {
   "cell_type": "markdown",
   "metadata": {},
   "source": [
    "### Comments\n",
    "From the above plot, it can be seen that as we increase C value, the training accuracy increases as the model is overfitting with increase in variance value.\n",
    "\n",
    "In terms of bias, for low values of C, till we reach C = 0.1, the testing accuracy increases and  decreases later for values of C higher than 0.1. This shows that the model has bias problem till for values of C < 0.1.\n",
    "\n",
    "Therefore from the above plot we select C = 0.1 as the best value as it gives the best trade off between bias and variance. \n",
    "\n",
    "#### The highest test accuracy is 91.88 at C = 0.1 for linear SVM with penalty 'l1' "
   ]
  },
  {
   "cell_type": "markdown",
   "metadata": {},
   "source": [
    "### Images for 10 coef_ outputs of classifier for C = 1 for penalty = 'l1'"
   ]
  },
  {
   "cell_type": "code",
   "execution_count": 103,
   "metadata": {},
   "outputs": [
    {
     "name": "stdout",
     "output_type": "stream",
     "text": [
      "LinearSVC(C=1, class_weight=None, dual=False, fit_intercept=True,\n",
      "     intercept_scaling=1, loss='squared_hinge', max_iter=1000,\n",
      "     multi_class='ovr', penalty='l1', random_state=None, tol=0.0001,\n",
      "     verbose=0)\n",
      "Coefficient matrix shape:  (10, 784)\n"
     ]
    }
   ],
   "source": [
    "# load the model from disk\n",
    "loaded_models_l1 = pickle.load(open('finalized_model_l1.txt', 'rb'))\n",
    "\n",
    "#Getting the Linear SVC model from the saved models for C = 1\n",
    "lin_clf1_l1 = loaded_models_l1[3]\n",
    "print(lin_clf1_l1)\n",
    "print(\"Coefficient matrix shape: \", lin_clf1_l1.coef_.shape)"
   ]
  },
  {
   "cell_type": "code",
   "execution_count": 104,
   "metadata": {},
   "outputs": [
    {
     "data": {
      "image/png": "[encoded data removed]",
      "text/plain": [
       "<matplotlib.figure.Figure at 0x28902fb5c88>"
      ]
     },
     "metadata": {},
     "output_type": "display_data"
    }
   ],
   "source": [
    "fig, ax = plt.subplots(nrows=2, ncols=5, figsize = (20,10))\n",
    "for i in range(lin_clf1.coef_.shape[0]):\n",
    "   \n",
    "    plt.subplot(2, 5, i+1)\n",
    "    W = lin_clf1.coef_[i]\n",
    "    plt.title('Coeff image for class= %d ' %i)\n",
    "    plt.imshow(np.reshape(W, (28,28)))\n",
    "plt.show()"
   ]
  },
  {
   "cell_type": "markdown",
   "metadata": {},
   "source": [
    "### Comments\n",
    "The images vaguely resemble the class label. They are not that similar to ones in logistic regression\n",
    "\n",
    "When compared with logistic regression images, the images are pixelated at the boundaries of label shape and the boundary is much more distinct for labels. For logistic regression images, the image labels were distributed and smooth.\n",
    "\n",
    "We observe this change in images as the method of evaluating the coefficient vectors is different for SVM and logitic regression. In case of logistic regression, we optimize the loss function with probabilities and in case of SVM, we optimize the function with the distances from the hyperplane.\n",
    "\n",
    "Also, there is not much difference in images when compared with previous images with penalty = 'l2'."
   ]
  },
  {
   "cell_type": "markdown",
   "metadata": {},
   "source": [
    "### Q2"
   ]
  },
  {
   "cell_type": "markdown",
   "metadata": {},
   "source": [
    "### Using SVC with RBF kernel"
   ]
  },
  {
   "cell_type": "markdown",
   "metadata": {},
   "source": [
    "### (i) Performing grid search to get parameters for best accuracy value "
   ]
  },
  {
   "cell_type": "code",
   "execution_count": 86,
   "metadata": {},
   "outputs": [
    {
     "name": "stdout",
     "output_type": "stream",
     "text": [
      "[  1.00000000e-01   5.00000000e-01   1.00000000e+00   5.00000000e+00\n",
      "   1.00000000e+01   5.00000000e+01   1.00000000e+02   5.00000000e+02]\n",
      "[  1.00000000e-03   5.00000000e-03   1.00000000e-02   5.00000000e-02\n",
      "   1.00000000e-01   5.00000000e-01   1.00000000e+00   5.00000000e+00]\n",
      "The best parameters are {'C': 5.0, 'gamma': 0.050000000000000003} with a score of 0.96\n"
     ]
    }
   ],
   "source": [
    "from sklearn.model_selection import GridSearchCV\n",
    "from sklearn.svm import SVC\n",
    "C_range = np.outer(np.logspace(-1, 2, 4),np.array([1,5]))\n",
    "# flatten matrix, change to 1D numpy array\n",
    "C_range = C_range.flatten()\n",
    "print(\"C range: \", C_range)\n",
    "\n",
    "gamma_range = np.outer(np.logspace(-3, 0, 4),np.array([1,5]))\n",
    "gamma_range = gamma_range.flatten()\n",
    "print(\"Gamma_range: \", gamma_range)\n",
    "param_grid = dict(gamma=gamma_range, C=C_range)\n",
    "grid = GridSearchCV(SVC(), param_grid=param_grid)\n",
    "indices = np.random.choice(labels_train.shape[0], 10000, replace = False)\n",
    "grid.fit(images_train[indices], labels_train[indices])\n",
    "\n",
    "print(\"The best parameters are %s with a score of %0.2f\"\n",
    "      % (grid.best_params_, grid.best_score_))\n",
    "import pickle\n",
    "filename = 'finalized_model_rbf.txt'\n",
    "pickle.dump(grid, open(filename, 'wb'))"
   ]
  },
  {
   "cell_type": "markdown",
   "metadata": {},
   "source": [
    "### Test Accuracy table for rbf kernel"
   ]
  },
  {
   "cell_type": "code",
   "execution_count": 86,
   "metadata": {
    "scrolled": true
   },
   "outputs": [
    {
     "name": "stdout",
     "output_type": "stream",
     "text": [
      "Test Accuracy for grid search\n",
      "C in Coloumns and gamma in rows\n"
     ]
    },
    {
     "data": {
      "text/html": [
       "<div>\n",
       "<style>\n",
       "    .dataframe thead tr:only-child th {\n",
       "        text-align: right;\n",
       "    }\n",
       "\n",
       "    .dataframe thead th {\n",
       "        text-align: left;\n",
       "    }\n",
       "\n",
       "    .dataframe tbody tr th {\n",
       "        vertical-align: top;\n",
       "    }\n",
       "</style>\n",
       "<table border=\"1\" class=\"dataframe\">\n",
       "  <thead>\n",
       "    <tr style=\"text-align: right;\">\n",
       "      <th></th>\n",
       "      <th>0.001</th>\n",
       "      <th>0.005</th>\n",
       "      <th>0.01</th>\n",
       "      <th>0.05</th>\n",
       "      <th>0.1</th>\n",
       "      <th>0.5</th>\n",
       "      <th>1.0</th>\n",
       "      <th>5.0</th>\n",
       "    </tr>\n",
       "  </thead>\n",
       "  <tbody>\n",
       "    <tr>\n",
       "      <th>0.1</th>\n",
       "      <td>0.8216</td>\n",
       "      <td>0.8980</td>\n",
       "      <td>0.9137</td>\n",
       "      <td>0.8507</td>\n",
       "      <td>0.2315</td>\n",
       "      <td>0.1133</td>\n",
       "      <td>0.1133</td>\n",
       "      <td>0.1133</td>\n",
       "    </tr>\n",
       "    <tr>\n",
       "      <th>0.5</th>\n",
       "      <td>0.8944</td>\n",
       "      <td>0.9269</td>\n",
       "      <td>0.9410</td>\n",
       "      <td>0.9482</td>\n",
       "      <td>0.6548</td>\n",
       "      <td>0.1881</td>\n",
       "      <td>0.1133</td>\n",
       "      <td>0.1133</td>\n",
       "    </tr>\n",
       "    <tr>\n",
       "      <th>1.0</th>\n",
       "      <td>0.9070</td>\n",
       "      <td>0.9361</td>\n",
       "      <td>0.9496</td>\n",
       "      <td>0.9592</td>\n",
       "      <td>0.8477</td>\n",
       "      <td>0.1858</td>\n",
       "      <td>0.1133</td>\n",
       "      <td>0.1133</td>\n",
       "    </tr>\n",
       "    <tr>\n",
       "      <th>5.0</th>\n",
       "      <td>0.9240</td>\n",
       "      <td>0.9506</td>\n",
       "      <td>0.9599</td>\n",
       "      <td>0.9604</td>\n",
       "      <td>0.8563</td>\n",
       "      <td>0.1944</td>\n",
       "      <td>0.1133</td>\n",
       "      <td>0.1133</td>\n",
       "    </tr>\n",
       "    <tr>\n",
       "      <th>10</th>\n",
       "      <td>0.9305</td>\n",
       "      <td>0.9531</td>\n",
       "      <td>0.9598</td>\n",
       "      <td>0.9604</td>\n",
       "      <td>0.8563</td>\n",
       "      <td>0.1944</td>\n",
       "      <td>0.1133</td>\n",
       "      <td>0.1133</td>\n",
       "    </tr>\n",
       "    <tr>\n",
       "      <th>50</th>\n",
       "      <td>0.9343</td>\n",
       "      <td>0.9525</td>\n",
       "      <td>0.9598</td>\n",
       "      <td>0.9604</td>\n",
       "      <td>0.8563</td>\n",
       "      <td>0.1944</td>\n",
       "      <td>0.1133</td>\n",
       "      <td>0.1133</td>\n",
       "    </tr>\n",
       "    <tr>\n",
       "      <th>100</th>\n",
       "      <td>0.9330</td>\n",
       "      <td>0.9525</td>\n",
       "      <td>0.9598</td>\n",
       "      <td>0.9604</td>\n",
       "      <td>0.8563</td>\n",
       "      <td>0.1944</td>\n",
       "      <td>0.1133</td>\n",
       "      <td>0.1133</td>\n",
       "    </tr>\n",
       "    <tr>\n",
       "      <th>500</th>\n",
       "      <td>0.9329</td>\n",
       "      <td>0.9525</td>\n",
       "      <td>0.9598</td>\n",
       "      <td>0.9604</td>\n",
       "      <td>0.8563</td>\n",
       "      <td>0.1944</td>\n",
       "      <td>0.1133</td>\n",
       "      <td>0.1133</td>\n",
       "    </tr>\n",
       "  </tbody>\n",
       "</table>\n",
       "</div>"
      ],
      "text/plain": [
       "      0.001   0.005    0.01    0.05     0.1     0.5     1.0     5.0\n",
       "0.1  0.8216  0.8980  0.9137  0.8507  0.2315  0.1133  0.1133  0.1133\n",
       "0.5  0.8944  0.9269  0.9410  0.9482  0.6548  0.1881  0.1133  0.1133\n",
       "1.0  0.9070  0.9361  0.9496  0.9592  0.8477  0.1858  0.1133  0.1133\n",
       "5.0  0.9240  0.9506  0.9599  0.9604  0.8563  0.1944  0.1133  0.1133\n",
       "10   0.9305  0.9531  0.9598  0.9604  0.8563  0.1944  0.1133  0.1133\n",
       "50   0.9343  0.9525  0.9598  0.9604  0.8563  0.1944  0.1133  0.1133\n",
       "100  0.9330  0.9525  0.9598  0.9604  0.8563  0.1944  0.1133  0.1133\n",
       "500  0.9329  0.9525  0.9598  0.9604  0.8563  0.1944  0.1133  0.1133"
      ]
     },
     "execution_count": 86,
     "metadata": {},
     "output_type": "execute_result"
    }
   ],
   "source": [
    "# load the model from disk\n",
    "import pickle\n",
    "grid = pickle.load(open('finalized_model_rbf.txt', 'rb'))\n",
    "data = grid.cv_results_['mean_test_score'].reshape(8,8)\n",
    "import pandas\n",
    "C_range = [\"0.1\",\"0.5\",\"1.0\",\"5.0\",\"10\",\"50\",\"100\",\"500\"]\n",
    "Gamma_range = [\"0.001\",\"0.005\",\"0.01\",\"0.05\",\"0.1\",\"0.5\",\"1.0\",\"5.0\"]\n",
    "print(\"Test Accuracy for grid search\")\n",
    "print(\"C in Coloumns and gamma in rows\")\n",
    "pandas.DataFrame(data, C_range, Gamma_range)"
   ]
  },
  {
   "cell_type": "markdown",
   "metadata": {},
   "source": [
    "### Train Accuracy table for rbf kernel"
   ]
  },
  {
   "cell_type": "code",
   "execution_count": 87,
   "metadata": {},
   "outputs": [
    {
     "name": "stdout",
     "output_type": "stream",
     "text": [
      "Train Accuracy for grid search\n",
      "C in Coloumns and gamma in rows\n"
     ]
    },
    {
     "name": "stderr",
     "output_type": "stream",
     "text": [
      "H:\\deepak\\Continuum\\anaconda3\\lib\\site-packages\\sklearn\\utils\\deprecation.py:122: FutureWarning: You are accessing a training score ('mean_train_score'), which will not be available by default any more in 0.21. If you need training scores, please set return_train_score=True\n",
      "  warnings.warn(*warn_args, **warn_kwargs)\n"
     ]
    },
    {
     "data": {
      "text/html": [
       "<div>\n",
       "<style>\n",
       "    .dataframe thead tr:only-child th {\n",
       "        text-align: right;\n",
       "    }\n",
       "\n",
       "    .dataframe thead th {\n",
       "        text-align: left;\n",
       "    }\n",
       "\n",
       "    .dataframe tbody tr th {\n",
       "        vertical-align: top;\n",
       "    }\n",
       "</style>\n",
       "<table border=\"1\" class=\"dataframe\">\n",
       "  <thead>\n",
       "    <tr style=\"text-align: right;\">\n",
       "      <th></th>\n",
       "      <th>0.001</th>\n",
       "      <th>0.005</th>\n",
       "      <th>0.01</th>\n",
       "      <th>0.05</th>\n",
       "      <th>0.1</th>\n",
       "      <th>0.5</th>\n",
       "      <th>1.0</th>\n",
       "      <th>5.0</th>\n",
       "    </tr>\n",
       "  </thead>\n",
       "  <tbody>\n",
       "    <tr>\n",
       "      <th>0.1</th>\n",
       "      <td>0.82570</td>\n",
       "      <td>0.903199</td>\n",
       "      <td>0.923549</td>\n",
       "      <td>0.89205</td>\n",
       "      <td>0.246199</td>\n",
       "      <td>0.11330</td>\n",
       "      <td>0.1133</td>\n",
       "      <td>0.1133</td>\n",
       "    </tr>\n",
       "    <tr>\n",
       "      <th>0.5</th>\n",
       "      <td>0.90070</td>\n",
       "      <td>0.942400</td>\n",
       "      <td>0.964050</td>\n",
       "      <td>0.99470</td>\n",
       "      <td>0.991400</td>\n",
       "      <td>0.22375</td>\n",
       "      <td>0.1133</td>\n",
       "      <td>0.1133</td>\n",
       "    </tr>\n",
       "    <tr>\n",
       "      <th>1.0</th>\n",
       "      <td>0.91615</td>\n",
       "      <td>0.957800</td>\n",
       "      <td>0.980150</td>\n",
       "      <td>0.99950</td>\n",
       "      <td>1.000000</td>\n",
       "      <td>1.00000</td>\n",
       "      <td>1.0000</td>\n",
       "      <td>1.0000</td>\n",
       "    </tr>\n",
       "    <tr>\n",
       "      <th>5.0</th>\n",
       "      <td>0.94485</td>\n",
       "      <td>0.989900</td>\n",
       "      <td>0.999100</td>\n",
       "      <td>1.00000</td>\n",
       "      <td>1.000000</td>\n",
       "      <td>1.00000</td>\n",
       "      <td>1.0000</td>\n",
       "      <td>1.0000</td>\n",
       "    </tr>\n",
       "    <tr>\n",
       "      <th>10</th>\n",
       "      <td>0.95880</td>\n",
       "      <td>0.997900</td>\n",
       "      <td>0.999850</td>\n",
       "      <td>1.00000</td>\n",
       "      <td>1.000000</td>\n",
       "      <td>1.00000</td>\n",
       "      <td>1.0000</td>\n",
       "      <td>1.0000</td>\n",
       "    </tr>\n",
       "    <tr>\n",
       "      <th>50</th>\n",
       "      <td>0.98880</td>\n",
       "      <td>1.000000</td>\n",
       "      <td>1.000000</td>\n",
       "      <td>1.00000</td>\n",
       "      <td>1.000000</td>\n",
       "      <td>1.00000</td>\n",
       "      <td>1.0000</td>\n",
       "      <td>1.0000</td>\n",
       "    </tr>\n",
       "    <tr>\n",
       "      <th>100</th>\n",
       "      <td>0.99630</td>\n",
       "      <td>1.000000</td>\n",
       "      <td>1.000000</td>\n",
       "      <td>1.00000</td>\n",
       "      <td>1.000000</td>\n",
       "      <td>1.00000</td>\n",
       "      <td>1.0000</td>\n",
       "      <td>1.0000</td>\n",
       "    </tr>\n",
       "    <tr>\n",
       "      <th>500</th>\n",
       "      <td>1.00000</td>\n",
       "      <td>1.000000</td>\n",
       "      <td>1.000000</td>\n",
       "      <td>1.00000</td>\n",
       "      <td>1.000000</td>\n",
       "      <td>1.00000</td>\n",
       "      <td>1.0000</td>\n",
       "      <td>1.0000</td>\n",
       "    </tr>\n",
       "  </tbody>\n",
       "</table>\n",
       "</div>"
      ],
      "text/plain": [
       "       0.001     0.005      0.01     0.05       0.1      0.5     1.0     5.0\n",
       "0.1  0.82570  0.903199  0.923549  0.89205  0.246199  0.11330  0.1133  0.1133\n",
       "0.5  0.90070  0.942400  0.964050  0.99470  0.991400  0.22375  0.1133  0.1133\n",
       "1.0  0.91615  0.957800  0.980150  0.99950  1.000000  1.00000  1.0000  1.0000\n",
       "5.0  0.94485  0.989900  0.999100  1.00000  1.000000  1.00000  1.0000  1.0000\n",
       "10   0.95880  0.997900  0.999850  1.00000  1.000000  1.00000  1.0000  1.0000\n",
       "50   0.98880  1.000000  1.000000  1.00000  1.000000  1.00000  1.0000  1.0000\n",
       "100  0.99630  1.000000  1.000000  1.00000  1.000000  1.00000  1.0000  1.0000\n",
       "500  1.00000  1.000000  1.000000  1.00000  1.000000  1.00000  1.0000  1.0000"
      ]
     },
     "execution_count": 87,
     "metadata": {},
     "output_type": "execute_result"
    }
   ],
   "source": [
    "# load the model from disk\n",
    "import pickle\n",
    "grid = pickle.load(open('finalized_model_rbf.txt', 'rb'))\n",
    "data = grid.cv_results_['mean_train_score'].reshape(8,8)\n",
    "import pandas\n",
    "C_range = [\"0.1\",\"0.5\",\"1.0\",\"5.0\",\"10\",\"50\",\"100\",\"500\"]\n",
    "Gamma_range = [\"0.001\",\"0.005\",\"0.01\",\"0.05\",\"0.1\",\"0.5\",\"1.0\",\"5.0\"]\n",
    "print(\"Train Accuracy for grid search\")\n",
    "print(\"C in Coloumns and gamma in rows\")\n",
    "pandas.DataFrame(data, C_range, Gamma_range)"
   ]
  },
  {
   "cell_type": "markdown",
   "metadata": {},
   "source": [
    "### Training and testing with the best parameters to get the final accuracy on test images set"
   ]
  },
  {
   "cell_type": "code",
   "execution_count": 62,
   "metadata": {
    "scrolled": false
   },
   "outputs": [
    {
     "data": {
      "text/plain": [
       "SVC(C=5, cache_size=200, class_weight=None, coef0=0.0,\n",
       "  decision_function_shape='ovr', degree=3, gamma=0.05, kernel='rbf',\n",
       "  max_iter=-1, probability=False, random_state=None, shrinking=True,\n",
       "  tol=0.001, verbose=False)"
      ]
     },
     "execution_count": 62,
     "metadata": {},
     "output_type": "execute_result"
    }
   ],
   "source": [
    "from sklearn.svm import SVC\n",
    "clf = SVC(C = 5, gamma = 0.05)\n",
    "indices = np.random.choice(labels_train.shape[0], 10000, replace = False)\n",
    "clf.fit(images_train[indices], labels_train[indices]) "
   ]
  },
  {
   "cell_type": "code",
   "execution_count": 122,
   "metadata": {},
   "outputs": [
    {
     "name": "stdout",
     "output_type": "stream",
     "text": [
      "Test accuracy for C= 5, gamma =0.05: 0.967\n"
     ]
    }
   ],
   "source": [
    "print(\"Test accuracy for C= 5, gamma =0.05:\",clf.score(images_test, labels_test))"
   ]
  },
  {
   "cell_type": "markdown",
   "metadata": {},
   "source": [
    "### Comments\n",
    "#### We get best accuracy of 96.7 for C = 0.5 and gamma value = 0.05.\n",
    "\n",
    "We can see the bias, variance changes from the above test accuracy and train accuracy tables. \n",
    "For C = 5 case, if we check the gamma values in above train accuarcy table, the accuracy value increases to 1 as we increase gamma values which shows variance is increasing and overfitting. From test accuracy table, for C = 5, the value increases till gamma = 0.05 and decreases thereafter which shows the bias is decreasing till this value but later overfitting is occuring. Hence we take the best value of gamma = 0.05 as trade off point.\n",
    "\n",
    "In case of linear SVC, we get best accuracy of 91.83 with C=1 for penalty = l2 and 91.88 with C=0.1 for penalty = l1. For SVC rbf kernel, we get best accuracy of 96.7 on test images for C= 5, gamma = 0.05 indicating this C greater than previous C. Therfore, we choose SVC with rbf kernel when compared with linear SVC."
   ]
  },
  {
   "cell_type": "markdown",
   "metadata": {},
   "source": [
    "### (ii) Support vectors properties"
   ]
  },
  {
   "cell_type": "code",
   "execution_count": 67,
   "metadata": {},
   "outputs": [
    {
     "name": "stdout",
     "output_type": "stream",
     "text": [
      "Number of support vectors for each class: [585 230 805 703 704 758 591 526 780 658]\n",
      "Support vector shape:  (6340, 784)\n",
      "Dual Coef shape:  (9, 6340)\n"
     ]
    }
   ],
   "source": [
    "print(\"Number of support vectors for each class:\",clf.n_support_)\n",
    "print(\"Support vector shape: \",clf.support_vectors_.shape)\n",
    "print(\"Dual Coef shape: \",clf.dual_coef_.shape)\n",
    "#print(np.where(clf.dual_coef_[0] < 0))"
   ]
  },
  {
   "cell_type": "markdown",
   "metadata": {},
   "source": [
    "### Displaying the images of support vectors"
   ]
  },
  {
   "cell_type": "markdown",
   "metadata": {
    "collapsed": true
   },
   "source": [
    "index = 0\n",
    "support_vectors = np.zeros((10,784))\n",
    "for  i in range(10):\n",
    "    index = index + clf.n_support_[i]-2\n",
    "    support_vectors[i] = clf.support_vectors_[index]"
   ]
  },
  {
   "cell_type": "code",
   "execution_count": 71,
   "metadata": {
    "scrolled": false
   },
   "outputs": [
    {
     "data": {
      "image/png": "[encoded data removed]",
      "text/plain": [
       "<matplotlib.figure.Figure at 0x2891f3e0ba8>"
      ]
     },
     "metadata": {},
     "output_type": "display_data"
    }
   ],
   "source": [
    "fig, ax = plt.subplots(nrows=2, ncols=5, figsize = (20,10))\n",
    "for i in range(10):\n",
    "    plt.subplot(2, 5, i+1)\n",
    "    W = support_vectors[i]\n",
    "    plt.title('Support vector for class= %d ' %i)\n",
    "    plt.imshow(np.reshape(W, (28,28)))\n",
    "plt.show()"
   ]
  },
  {
   "cell_type": "markdown",
   "metadata": {},
   "source": [
    "### Comments\n",
    "Sample support vectors images are shown for each class above.\n",
    "\n",
    "Support vectors are basically the image vectors of that class which lie on the margin classifier as we can see from the images.\n",
    "\n",
    "Also from the support vectors properties printed above, we can see the number of support vectors for each class and total support vector matrix shape. From dual_coef attribute, we get (y*alpha) values which shows positive alpha values for that particular class and negative alpha values for the rest of the classes. The dual_coef matrix is [(n_class-1) by n_SV] shape indicating each class is compared with rest of classes support vectors and positive values are assigned for that class alpha values and negative sign for rest of the classes keeping the magnitude same for all (n_class-1) rows."
   ]
  },
  {
   "cell_type": "markdown",
   "metadata": {},
   "source": [
    "### (iii) Using SVC with poly kernel "
   ]
  },
  {
   "cell_type": "markdown",
   "metadata": {},
   "source": [
    "### (i) Performing grid search to get parameters for best accuracy value "
   ]
  },
  {
   "cell_type": "code",
   "execution_count": 118,
   "metadata": {},
   "outputs": [
    {
     "name": "stdout",
     "output_type": "stream",
     "text": [
      "C range:  [  1.00000000e+01   5.00000000e+01   1.00000000e+02   5.00000000e+02\n",
      "   1.00000000e+03   5.00000000e+03   1.00000000e+04   5.00000000e+04]\n",
      "Degree of polynomial:  [1 2 3 4 5 6 7 8]\n",
      "The best parameters are {'C': 500.0, 'degree': 2} with a score of 0.953\n"
     ]
    }
   ],
   "source": [
    "from sklearn.model_selection import GridSearchCV\n",
    "from sklearn.svm import SVC\n",
    "C_range = np.outer(np.logspace(1, 4, 4),np.array([1,5]))\n",
    "# flatten matrix, change to 1D numpy array\n",
    "C_range = C_range.flatten()\n",
    "print(\"C range: \", C_range)\n",
    "\n",
    "degree_range = np.arange(1,9)\n",
    "print(\"Degree of polynomial: \", degree_range)\n",
    "param_grid = dict(degree=degree_range, C=C_range)\n",
    "grid = GridSearchCV(SVC(kernel='poly'), param_grid=param_grid)\n",
    "indices = np.random.choice(labels_train.shape[0], 10000, replace = False)\n",
    "grid.fit(images_train[indices], labels_train[indices])\n",
    "print(\"The best parameters are %s with a score of %0.3f\"\n",
    "      % (grid.best_params_, grid.best_score_))\n",
    "import pickle\n",
    "filename = 'finalized_model_poly1.txt'\n",
    "pickle.dump(grid, open(filename, 'wb'))"
   ]
  },
  {
   "cell_type": "code",
   "execution_count": 111,
   "metadata": {
    "scrolled": true
   },
   "outputs": [
    {
     "name": "stdout",
     "output_type": "stream",
     "text": [
      "The best parameters are {'C': 500.0, 'degree': 2} with a score of 0.953\n",
      "Test Accuracy for grid search\n",
      "C in Coloumns and degree in rows\n"
     ]
    },
    {
     "data": {
      "text/html": [
       "<div>\n",
       "<style>\n",
       "    .dataframe thead tr:only-child th {\n",
       "        text-align: right;\n",
       "    }\n",
       "\n",
       "    .dataframe thead th {\n",
       "        text-align: left;\n",
       "    }\n",
       "\n",
       "    .dataframe tbody tr th {\n",
       "        vertical-align: top;\n",
       "    }\n",
       "</style>\n",
       "<table border=\"1\" class=\"dataframe\">\n",
       "  <thead>\n",
       "    <tr style=\"text-align: right;\">\n",
       "      <th></th>\n",
       "      <th>1</th>\n",
       "      <th>2</th>\n",
       "      <th>3</th>\n",
       "      <th>4</th>\n",
       "      <th>5</th>\n",
       "      <th>6</th>\n",
       "      <th>7</th>\n",
       "      <th>8</th>\n",
       "    </tr>\n",
       "  </thead>\n",
       "  <tbody>\n",
       "    <tr>\n",
       "      <th>1</th>\n",
       "      <td>0.9216</td>\n",
       "      <td>0.9072</td>\n",
       "      <td>0.5664</td>\n",
       "      <td>0.1366</td>\n",
       "      <td>0.1138</td>\n",
       "      <td>0.1138</td>\n",
       "      <td>0.1138</td>\n",
       "      <td>0.1138</td>\n",
       "    </tr>\n",
       "    <tr>\n",
       "      <th>5</th>\n",
       "      <td>0.9239</td>\n",
       "      <td>0.9418</td>\n",
       "      <td>0.8242</td>\n",
       "      <td>0.3105</td>\n",
       "      <td>0.1256</td>\n",
       "      <td>0.1138</td>\n",
       "      <td>0.1138</td>\n",
       "      <td>0.1138</td>\n",
       "    </tr>\n",
       "    <tr>\n",
       "      <th>10</th>\n",
       "      <td>0.9216</td>\n",
       "      <td>0.9475</td>\n",
       "      <td>0.8748</td>\n",
       "      <td>0.4630</td>\n",
       "      <td>0.1465</td>\n",
       "      <td>0.1145</td>\n",
       "      <td>0.1138</td>\n",
       "      <td>0.1138</td>\n",
       "    </tr>\n",
       "    <tr>\n",
       "      <th>50</th>\n",
       "      <td>0.9075</td>\n",
       "      <td>0.9532</td>\n",
       "      <td>0.9294</td>\n",
       "      <td>0.7343</td>\n",
       "      <td>0.2872</td>\n",
       "      <td>0.1311</td>\n",
       "      <td>0.1142</td>\n",
       "      <td>0.1138</td>\n",
       "    </tr>\n",
       "    <tr>\n",
       "      <th>100</th>\n",
       "      <td>0.9048</td>\n",
       "      <td>0.9526</td>\n",
       "      <td>0.9405</td>\n",
       "      <td>0.8032</td>\n",
       "      <td>0.4003</td>\n",
       "      <td>0.1541</td>\n",
       "      <td>0.1173</td>\n",
       "      <td>0.1138</td>\n",
       "    </tr>\n",
       "    <tr>\n",
       "      <th>500</th>\n",
       "      <td>0.9042</td>\n",
       "      <td>0.9520</td>\n",
       "      <td>0.9454</td>\n",
       "      <td>0.8915</td>\n",
       "      <td>0.6419</td>\n",
       "      <td>0.2731</td>\n",
       "      <td>0.1396</td>\n",
       "      <td>0.1161</td>\n",
       "    </tr>\n",
       "    <tr>\n",
       "      <th>1000</th>\n",
       "      <td>0.9042</td>\n",
       "      <td>0.9520</td>\n",
       "      <td>0.9455</td>\n",
       "      <td>0.9111</td>\n",
       "      <td>0.7204</td>\n",
       "      <td>0.3612</td>\n",
       "      <td>0.1624</td>\n",
       "      <td>0.1190</td>\n",
       "    </tr>\n",
       "    <tr>\n",
       "      <th>5000</th>\n",
       "      <td>0.9042</td>\n",
       "      <td>0.9520</td>\n",
       "      <td>0.9442</td>\n",
       "      <td>0.9278</td>\n",
       "      <td>0.8396</td>\n",
       "      <td>0.5693</td>\n",
       "      <td>0.2669</td>\n",
       "      <td>0.1459</td>\n",
       "    </tr>\n",
       "  </tbody>\n",
       "</table>\n",
       "</div>"
      ],
      "text/plain": [
       "           1       2       3       4       5       6       7       8\n",
       "1     0.9216  0.9072  0.5664  0.1366  0.1138  0.1138  0.1138  0.1138\n",
       "5     0.9239  0.9418  0.8242  0.3105  0.1256  0.1138  0.1138  0.1138\n",
       "10    0.9216  0.9475  0.8748  0.4630  0.1465  0.1145  0.1138  0.1138\n",
       "50    0.9075  0.9532  0.9294  0.7343  0.2872  0.1311  0.1142  0.1138\n",
       "100   0.9048  0.9526  0.9405  0.8032  0.4003  0.1541  0.1173  0.1138\n",
       "500   0.9042  0.9520  0.9454  0.8915  0.6419  0.2731  0.1396  0.1161\n",
       "1000  0.9042  0.9520  0.9455  0.9111  0.7204  0.3612  0.1624  0.1190\n",
       "5000  0.9042  0.9520  0.9442  0.9278  0.8396  0.5693  0.2669  0.1459"
      ]
     },
     "execution_count": 111,
     "metadata": {},
     "output_type": "execute_result"
    }
   ],
   "source": [
    "# load the model from disk\n",
    "import pickle\n",
    "grid = pickle.load(open('finalized_model_poly1.txt', 'rb'))\n",
    "data = grid.cv_results_['mean_test_score'].reshape(8,8)\n",
    "import pandas\n",
    "C_range = [\"1\",\"5\",\"10\",\"50\",\"100\",\"500\",\"1000\",\"5000\"]\n",
    "degree_range = [\"1\",\"2\",\"3\",\"4\",\"5\",\"6\",\"7\",\"8\"]\n",
    "\n",
    "print(\"The best parameters are %s with a score of %0.3f\"\n",
    "      % (grid.best_params_, grid.best_score_))\n",
    "print(\"Test Accuracy for grid search\")\n",
    "print(\"C in Coloumns and degree in rows\")\n",
    "pandas.DataFrame(data, C_range, degree_range)"
   ]
  },
  {
   "cell_type": "code",
   "execution_count": 120,
   "metadata": {},
   "outputs": [
    {
     "name": "stdout",
     "output_type": "stream",
     "text": [
      "Train Accuracy for grid search\n",
      "C in Coloumns and degree in rows\n"
     ]
    },
    {
     "name": "stderr",
     "output_type": "stream",
     "text": [
      "H:\\deepak\\Continuum\\anaconda3\\lib\\site-packages\\sklearn\\utils\\deprecation.py:122: FutureWarning: You are accessing a training score ('mean_train_score'), which will not be available by default any more in 0.21. If you need training scores, please set return_train_score=True\n",
      "  warnings.warn(*warn_args, **warn_kwargs)\n"
     ]
    },
    {
     "data": {
      "text/html": [
       "<div>\n",
       "<style>\n",
       "    .dataframe thead tr:only-child th {\n",
       "        text-align: right;\n",
       "    }\n",
       "\n",
       "    .dataframe thead th {\n",
       "        text-align: left;\n",
       "    }\n",
       "\n",
       "    .dataframe tbody tr th {\n",
       "        vertical-align: top;\n",
       "    }\n",
       "</style>\n",
       "<table border=\"1\" class=\"dataframe\">\n",
       "  <thead>\n",
       "    <tr style=\"text-align: right;\">\n",
       "      <th></th>\n",
       "      <th>1</th>\n",
       "      <th>2</th>\n",
       "      <th>3</th>\n",
       "      <th>4</th>\n",
       "      <th>5</th>\n",
       "      <th>6</th>\n",
       "      <th>7</th>\n",
       "      <th>8</th>\n",
       "    </tr>\n",
       "  </thead>\n",
       "  <tbody>\n",
       "    <tr>\n",
       "      <th>1</th>\n",
       "      <td>0.942552</td>\n",
       "      <td>0.920550</td>\n",
       "      <td>0.574201</td>\n",
       "      <td>0.137800</td>\n",
       "      <td>0.113800</td>\n",
       "      <td>0.11380</td>\n",
       "      <td>0.113800</td>\n",
       "      <td>0.113800</td>\n",
       "    </tr>\n",
       "    <tr>\n",
       "      <th>5</th>\n",
       "      <td>0.967900</td>\n",
       "      <td>0.965501</td>\n",
       "      <td>0.839950</td>\n",
       "      <td>0.318000</td>\n",
       "      <td>0.125800</td>\n",
       "      <td>0.11380</td>\n",
       "      <td>0.113800</td>\n",
       "      <td>0.113800</td>\n",
       "    </tr>\n",
       "    <tr>\n",
       "      <th>10</th>\n",
       "      <td>0.980500</td>\n",
       "      <td>0.979200</td>\n",
       "      <td>0.892250</td>\n",
       "      <td>0.473051</td>\n",
       "      <td>0.148100</td>\n",
       "      <td>0.11440</td>\n",
       "      <td>0.113800</td>\n",
       "      <td>0.113800</td>\n",
       "    </tr>\n",
       "    <tr>\n",
       "      <th>50</th>\n",
       "      <td>0.996100</td>\n",
       "      <td>0.998300</td>\n",
       "      <td>0.966000</td>\n",
       "      <td>0.755248</td>\n",
       "      <td>0.295150</td>\n",
       "      <td>0.13305</td>\n",
       "      <td>0.114350</td>\n",
       "      <td>0.113800</td>\n",
       "    </tr>\n",
       "    <tr>\n",
       "      <th>100</th>\n",
       "      <td>0.999200</td>\n",
       "      <td>0.999700</td>\n",
       "      <td>0.984001</td>\n",
       "      <td>0.832949</td>\n",
       "      <td>0.412501</td>\n",
       "      <td>0.15655</td>\n",
       "      <td>0.117450</td>\n",
       "      <td>0.113800</td>\n",
       "    </tr>\n",
       "    <tr>\n",
       "      <th>500</th>\n",
       "      <td>1.000000</td>\n",
       "      <td>1.000000</td>\n",
       "      <td>0.998300</td>\n",
       "      <td>0.941649</td>\n",
       "      <td>0.671348</td>\n",
       "      <td>0.28560</td>\n",
       "      <td>0.142250</td>\n",
       "      <td>0.116600</td>\n",
       "    </tr>\n",
       "    <tr>\n",
       "      <th>1000</th>\n",
       "      <td>1.000000</td>\n",
       "      <td>1.000000</td>\n",
       "      <td>0.999400</td>\n",
       "      <td>0.967550</td>\n",
       "      <td>0.758999</td>\n",
       "      <td>0.38005</td>\n",
       "      <td>0.167351</td>\n",
       "      <td>0.119750</td>\n",
       "    </tr>\n",
       "    <tr>\n",
       "      <th>5000</th>\n",
       "      <td>1.000000</td>\n",
       "      <td>1.000000</td>\n",
       "      <td>1.000000</td>\n",
       "      <td>0.992950</td>\n",
       "      <td>0.900300</td>\n",
       "      <td>0.60480</td>\n",
       "      <td>0.284100</td>\n",
       "      <td>0.151249</td>\n",
       "    </tr>\n",
       "  </tbody>\n",
       "</table>\n",
       "</div>"
      ],
      "text/plain": [
       "             1         2         3         4         5        6         7  \\\n",
       "1     0.942552  0.920550  0.574201  0.137800  0.113800  0.11380  0.113800   \n",
       "5     0.967900  0.965501  0.839950  0.318000  0.125800  0.11380  0.113800   \n",
       "10    0.980500  0.979200  0.892250  0.473051  0.148100  0.11440  0.113800   \n",
       "50    0.996100  0.998300  0.966000  0.755248  0.295150  0.13305  0.114350   \n",
       "100   0.999200  0.999700  0.984001  0.832949  0.412501  0.15655  0.117450   \n",
       "500   1.000000  1.000000  0.998300  0.941649  0.671348  0.28560  0.142250   \n",
       "1000  1.000000  1.000000  0.999400  0.967550  0.758999  0.38005  0.167351   \n",
       "5000  1.000000  1.000000  1.000000  0.992950  0.900300  0.60480  0.284100   \n",
       "\n",
       "             8  \n",
       "1     0.113800  \n",
       "5     0.113800  \n",
       "10    0.113800  \n",
       "50    0.113800  \n",
       "100   0.113800  \n",
       "500   0.116600  \n",
       "1000  0.119750  \n",
       "5000  0.151249  "
      ]
     },
     "execution_count": 120,
     "metadata": {},
     "output_type": "execute_result"
    }
   ],
   "source": [
    "# load the model from disk\n",
    "import pickle\n",
    "grid = pickle.load(open('finalized_model_poly1.txt', 'rb'))\n",
    "data = grid.cv_results_['mean_train_score'].reshape(8,8)\n",
    "import pandas\n",
    "C_range = [\"1\",\"5\",\"10\",\"50\",\"100\",\"500\",\"1000\",\"5000\"]\n",
    "degree_range = [\"1\",\"2\",\"3\",\"4\",\"5\",\"6\",\"7\",\"8\"]\n",
    "\n",
    "#print(\"The best parameters are %s with a score of %0.3f\"\n",
    "#      % (grid.best_params_, grid.best_score_))\n",
    "print(\"Train Accuracy for grid search\")\n",
    "print(\"C in Coloumns and degree in rows\")\n",
    "pandas.DataFrame(data, C_range, degree_range)"
   ]
  },
  {
   "cell_type": "code",
   "execution_count": 73,
   "metadata": {},
   "outputs": [
    {
     "data": {
      "text/plain": [
       "SVC(C=1000, cache_size=200, class_weight=None, coef0=0.0,\n",
       "  decision_function_shape='ovr', degree=2, gamma='auto', kernel='poly',\n",
       "  max_iter=-1, probability=False, random_state=None, shrinking=True,\n",
       "  tol=0.001, verbose=False)"
      ]
     },
     "execution_count": 73,
     "metadata": {},
     "output_type": "execute_result"
    }
   ],
   "source": [
    "clf_poly = SVC(kernel = 'poly', C = 1000, degree = 2)\n",
    "indices = np.random.choice(labels_train.shape[0], 10000, replace = False)\n",
    "clf_poly.fit(images_train[indices], labels_train[indices])"
   ]
  },
  {
   "cell_type": "code",
   "execution_count": 121,
   "metadata": {},
   "outputs": [
    {
     "name": "stdout",
     "output_type": "stream",
     "text": [
      "Test accuracy for C= 500, degree =2: 0.9637\n"
     ]
    }
   ],
   "source": [
    "print(\"Test accuracy for C= 500, degree =2:\",clf_poly.score(images_test, labels_test))"
   ]
  },
  {
   "cell_type": "markdown",
   "metadata": {},
   "source": [
    "### Comments\n",
    "#### We get best accuracy of 96.37 for C = 500 and degree = 2.\n",
    "\n",
    "We can see the bias, variance changes from the above test accuracy and train accuracy tables. \n",
    "For C = 500 case, if we check the degree values in above train accuarcy table, the accuracy value increases to 1 as we increase degree values to 2  and decreases thereafter. From test accuracy table, for C = 500, the value increases till degree = 2 and decreases thereafter which shows the bias is decreasing till this value but later overfitting is occuring. Hence we take the best value of degree = 2 as trade off point.\n",
    "\n",
    "In case of linear SVC, we get best accuracy of 91.83 with C=1 for penalty = l2 and 91.88 with C=0.1 for penalty = l1. For SVC poly kernel, we get best accuracy of 96.37 on test images for C= 500, degree = 2 indicating this C greater than previous C. Therfore, we choose SVC with poly kernel when compared with linear SVC."
   ]
  },
  {
   "cell_type": "markdown",
   "metadata": {},
   "source": [
    "### (ii) Support vectors properties"
   ]
  },
  {
   "cell_type": "code",
   "execution_count": 77,
   "metadata": {},
   "outputs": [
    {
     "name": "stdout",
     "output_type": "stream",
     "text": [
      "Number of support vectors for each class: [149 142 306 327 285 368 208 275 350 347]\n",
      "Support vector shape:  (2757, 784)\n",
      "Dual Coef shape:  (9, 2757)\n"
     ]
    }
   ],
   "source": [
    "print(\"Number of support vectors for each class:\",clf_poly.n_support_)\n",
    "print(\"Support vector shape: \",clf_poly.support_vectors_.shape)\n",
    "print(\"Dual Coef shape: \",clf_poly.dual_coef_.shape)"
   ]
  },
  {
   "cell_type": "markdown",
   "metadata": {},
   "source": [
    "### Displaying the images of support vectors"
   ]
  },
  {
   "cell_type": "code",
   "execution_count": 84,
   "metadata": {
    "collapsed": true
   },
   "outputs": [],
   "source": [
    "index = 0\n",
    "support_vectors_poly = np.zeros((10,784))\n",
    "for  i in range(10):\n",
    "    index = index + clf_poly.n_support_[i]-2\n",
    "    support_vectors_poly[i] = clf_poly.support_vectors_[index]"
   ]
  },
  {
   "cell_type": "code",
   "execution_count": 85,
   "metadata": {},
   "outputs": [
    {
     "data": {
      "image/png": "[encoded data removed]",
      "text/plain": [
       "<matplotlib.figure.Figure at 0x28903a45a58>"
      ]
     },
     "metadata": {},
     "output_type": "display_data"
    }
   ],
   "source": [
    "fig, ax = plt.subplots(nrows=2, ncols=5, figsize = (20,10))\n",
    "for i in range(10):\n",
    "    plt.subplot(2, 5, i+1)\n",
    "    W = support_vectors_poly[i]\n",
    "    plt.title('Support vector for class= %d ' %i)\n",
    "    plt.imshow(np.reshape(W, (28,28)))\n",
    "plt.show()"
   ]
  },
  {
   "cell_type": "markdown",
   "metadata": {},
   "source": [
    "### Comments\n",
    "Sample support vectors images for SVC-poly kernel are shown for each class above.\n",
    "\n",
    "Support vectors are basically the image vectors of that class which lie on the margin classifier as we can see from the images.\n",
    "\n",
    "Also from the support vectors properties printed above, we can see the number of support vectors for each class and total support vector matrix shape. From dual_coef attribute, we get (y*alpha) values which shows positive alpha values for that particular class and negative alpha values for the rest of the classes.\n",
    "\n",
    "Here we get less number of support vectors when compared with rbf kernel as rbf is local function and effects the changes only locally which reults is choosing more number os support vectors, while poly is a global function and results is wider changes."
   ]
  }
 ],
 "metadata": {
  "kernelspec": {
   "display_name": "Python 2",
   "language": "python",
   "name": "python2"
  },
  "language_info": {
   "codemirror_mode": {
    "name": "ipython",
    "version": 2
   },
   "file_extension": ".py",
   "mimetype": "text/x-python",
   "name": "python",
   "nbconvert_exporter": "python",
   "pygments_lexer": "ipython2",
   "version": "2.7.13"
  }
 },
 "nbformat": 4,
 "nbformat_minor": 2
}
