{
 "cells": [
  {
   "cell_type": "markdown",
   "metadata": {},
   "source": [
    "### Linear regression with linear and Gaussian basis functions"
   ]
  },
  {
   "cell_type": "markdown",
   "metadata": {},
   "source": [
    "### Name: Deepak Reddy"
   ]
  },
  {
   "cell_type": "code",
   "execution_count": 270,
   "metadata": {
    "collapsed": true
   },
   "outputs": [],
   "source": [
    "from numpy import *"
   ]
  },
  {
   "cell_type": "code",
   "execution_count": 271,
   "metadata": {
    "collapsed": true
   },
   "outputs": [],
   "source": [
    "data = genfromtxt('airfoil_self_noise.dat')\n",
    "#data = genfromtxt('yacht_hydrodynamics.data')\n",
    "#data = genfromtxt('slump_test.data', delimiter=\",\", skip_header=1)\n",
    "\n",
    "#shape(data)\n"
   ]
  },
  {
   "cell_type": "markdown",
   "metadata": {},
   "source": [
    "Z- score normalization"
   ]
  },
  {
   "cell_type": "code",
   "execution_count": 272,
   "metadata": {
    "collapsed": true
   },
   "outputs": [],
   "source": [
    "data_s = zeros(shape(data))\n",
    "for i in range(shape(data)[1]):\n",
    "    data_s[:,i] = (data[:,i] - data[:,i].mean())/(data[:,i].std())\n",
    "    "
   ]
  },
  {
   "cell_type": "code",
   "execution_count": 273,
   "metadata": {
    "collapsed": true
   },
   "outputs": [],
   "source": [
    "def my_regression(trainX,testX,noutput):\n",
    "    x = [0, 0.01, 0.1, 1, 10, 100, 1000]\n",
    "    test_pred =[]\n",
    "    for lamda in x:\n",
    "       # lamda = 0.1\n",
    "        train_mat= trainX[:,0:shape(trainX)[1]-noutput]\n",
    "        trainT_mul = lamda*eye(shape(trainX)[1]-noutput)+ matmul(train_mat.transpose(),train_mat)\n",
    "        trainT_inv = linalg.pinv(trainT_mul)\n",
    "        final_train = matmul(trainT_inv, train_mat.transpose())\n",
    "        n_columns = shape(trainX)[1]\n",
    "        W = matmul(final_train, trainX[:,(n_columns-noutput): ])\n",
    "        test_pred.append(matmul(testX,W))\n",
    "    \n",
    "    return test_pred"
   ]
  },
  {
   "cell_type": "markdown",
   "metadata": {},
   "source": [
    "Dividing the data in to train and test using k-fold division and as per requirements for \"my_regression\" function"
   ]
  },
  {
   "cell_type": "code",
   "execution_count": 274,
   "metadata": {
    "collapsed": true
   },
   "outputs": [],
   "source": [
    "k = 5         #K fold = 5 fold\n",
    "noutput = 1   #number of output in data\n",
    "\n",
    "data_lst = [] #Adding seperate data set of each fold in to list\n",
    "for i in range(k):\n",
    "    if i != (k-1):\n",
    "        data_lst.append(data_s[i*(len(data_s)/k):(i+1)*(len(data_s)/k),:])\n",
    "    else:\n",
    "        data_lst.append(data_s[i*(len(data_s)/k):,:])\n",
    "\n",
    "\n",
    "trainX_lst = [] #Forming the 5 train datasets in to list \n",
    "testX_lst =[]   #Forming the 5 test datasets in to list \n",
    "for i in range(k):\n",
    "    data = data_lst[i]\n",
    "    for j in range(i+1,i+k-1):\n",
    "        data = concatenate((data, data_lst[j%k]),axis =0)\n",
    "        \n",
    "    trainX_lst.append(data)\n",
    "    testX_lst.append(data_lst[(i+k-1)%k])\n",
    "    \n",
    "\n"
   ]
  },
  {
   "cell_type": "markdown",
   "metadata": {},
   "source": [
    "Performing my_regression for linear basis fuction on each of the K-fold data sets and outputting the average square error over k-fold cross validation"
   ]
  },
  {
   "cell_type": "code",
   "execution_count": 275,
   "metadata": {
    "scrolled": true
   },
   "outputs": [
    {
     "name": "stdout",
     "output_type": "stream",
     "text": [
      "[ 173.67295375  173.67242289  173.66765163  173.62057309  173.20955368\n",
      "  172.8483886   212.99526967]\n"
     ]
    }
   ],
   "source": [
    "Err = zeros(7)\n",
    "for i in range(k):\n",
    "    trainX_data = trainX_lst[i] #selecting the train dataset from the already stored list\n",
    "    [row,col] = shape(trainX_data)\n",
    "    trainX = ones((row,col+1))\n",
    "    #Adding bias to data\n",
    "    trainX[:,1:] = trainX_data\n",
    "    \n",
    "    testX_data = testX_lst[i] #selecting the test dataset from the already stored list\n",
    "    [row,col] = shape(testX_data)\n",
    "    testX = ones((row,col+1-noutput))\n",
    "    testX[:,1:] = testX_data[:,0:shape(testX_data)[1]-noutput]\n",
    "    testX_output  = testX_data[:,shape(testX_data)[1]-noutput:]\n",
    "    \n",
    "    testX_pred =  my_regression(trainX,testX,noutput)\n",
    "    for m in range(7):\n",
    "        diff = testX_pred[m] - testX_output\n",
    "        Err[m] = Err[m]+ sum(diff**2)\n",
    "    \n",
    "print(Err/k)\n",
    "    "
   ]
  },
  {
   "cell_type": "code",
   "execution_count": 276,
   "metadata": {},
   "outputs": [
    {
     "data": {
      "image/png": "[encoded data removed]",
      "text/plain": [
       "<matplotlib.figure.Figure at 0xa411b00>"
      ]
     },
     "metadata": {},
     "output_type": "display_data"
    }
   ],
   "source": [
    "import matplotlib.pyplot as plt\n",
    "lamda = [0, 0.01, 0.1, 1, 10, 100, 1000]\n",
    "plt.plot(lamda, Err/k)\n",
    "plt.ylabel('Avg Error')\n",
    "plt.xlabel('lambda')\n",
    "plt.show()\n"
   ]
  },
  {
   "cell_type": "markdown",
   "metadata": {},
   "source": [
    "Using Gaussian radial basis function"
   ]
  },
  {
   "cell_type": "code",
   "execution_count": 277,
   "metadata": {
    "collapsed": true
   },
   "outputs": [],
   "source": [
    "#defining Radial basis function with input vector and mean as inputs\n",
    "def RBF(x,u):\n",
    "    sqdist = sum((x-u)**2)\n",
    "    return exp(-0.5*sqdist)"
   ]
  },
  {
   "cell_type": "markdown",
   "metadata": {},
   "source": [
    "Performing my_regression for Gaussian basis fuction on each of the K-fold data sets and outputting the average square error over k-fold cross validation"
   ]
  },
  {
   "cell_type": "code",
   "execution_count": 278,
   "metadata": {},
   "outputs": [
    {
     "name": "stdout",
     "output_type": "stream",
     "text": [
      "[ 251.53423887  251.52379389  251.42942078  250.55862752  250.07163562\n",
      "  271.2661261   293.89022913]\n"
     ]
    }
   ],
   "source": [
    "Err = zeros(7)\n",
    "k = 5 \n",
    "noutput = 1\n",
    "for i in range(k):\n",
    "    trainX_data = trainX_lst[i]\n",
    "    trainG_data = trainX_data[:,:-noutput]\n",
    "    train_data = zeros((shape(trainX_data)[0], 10))\n",
    "    trainX_output = trainX_data[:,shape(trainX_data)[1]-noutput:]\n",
    "    \n",
    "    testX_data = testX_lst[i]\n",
    "    testG_data = testX_data[:,:-noutput]\n",
    "    test_data = zeros((shape(testX_data)[0], 10))\n",
    "    testX_output  = testX_data[:,shape(testX_data)[1]-noutput:]\n",
    "    \n",
    "    data = concatenate((trainG_data, testG_data),axis =0)\n",
    "    #Getting the mean from the data set\n",
    "    mean = random.randint(0,shape(data)[0], size=10)\n",
    "    mean_data = data[mean]\n",
    "    \n",
    "  #Forming new feature matrix using Gaussian RBF function\n",
    "    for j in range(10):\n",
    "        for l in range(shape(trainX_data)[0]):\n",
    "            train_data[l][j] = RBF(trainG_data[l,:], mean_data[j])\n",
    "        \n",
    "        for l in range(shape(testX_data)[0]):\n",
    "            test_data[l][j] = RBF(testG_data[l,:], mean_data[j])\n",
    "    \n",
    "    train_data = hstack((train_data, trainX_output))\n",
    "    \n",
    "    testX_pred =  my_regression(train_data,test_data,noutput)\n",
    "    for m in range(7):\n",
    "        diff = testX_pred[m] - testX_output\n",
    "        Err[m] = Err[m]+ sum(diff**2)\n",
    "    \n",
    "print(Err/k)\n",
    "   \n",
    "        \n",
    "    "
   ]
  },
  {
   "cell_type": "code",
   "execution_count": 279,
   "metadata": {},
   "outputs": [
    {
     "data": {
      "image/png": "[encoded data removed]",
      "text/plain": [
       "<matplotlib.figure.Figure at 0xaf29f28>"
      ]
     },
     "metadata": {},
     "output_type": "display_data"
    }
   ],
   "source": [
    "lamda = [0, 0.01, 0.1, 1, 10, 100, 1000]\n",
    "plt.plot(lamda, Err/k)\n",
    "plt.ylabel('Avg Error')\n",
    "plt.xlabel('lambda')\n",
    "plt.show()"
   ]
  },
  {
   "cell_type": "code",
   "execution_count": null,
   "metadata": {
    "collapsed": true
   },
   "outputs": [],
   "source": []
  },
  {
   "cell_type": "code",
   "execution_count": null,
   "metadata": {
    "collapsed": true
   },
   "outputs": [],
   "source": []
  }
 ],
 "metadata": {
  "kernelspec": {
   "display_name": "Python 2",
   "language": "python",
   "name": "python2"
  },
  "language_info": {
   "codemirror_mode": {
    "name": "ipython",
    "version": 2
   },
   "file_extension": ".py",
   "mimetype": "text/x-python",
   "name": "python",
   "nbconvert_exporter": "python",
   "pygments_lexer": "ipython2",
   "version": "2.7.13"
  }
 },
 "nbformat": 4,
 "nbformat_minor": 2
}
