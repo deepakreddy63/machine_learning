{
 "cells": [
  {
   "cell_type": "markdown",
   "metadata": {},
   "source": [
    "### Naive Bayes and Logistic Regression on MNIST data "
   ]
  },
  {
   "cell_type": "markdown",
   "metadata": {},
   "source": [
    "### Name: Deepak Reddy"
   ]
  },
  {
   "cell_type": "code",
   "execution_count": 415,
   "metadata": {
    "collapsed": true
   },
   "outputs": [],
   "source": [
    "from mnist import MNIST\n",
    "import numpy as np\n",
    "import random\n",
    "import time\n",
    "import pandas as pd\n",
    "from sklearn.metrics import confusion_matrix\n",
    "from matplotlib import pyplot as plt\n"
   ]
  },
  {
   "cell_type": "code",
   "execution_count": 416,
   "metadata": {
    "collapsed": true
   },
   "outputs": [],
   "source": [
    "mndata = MNIST('MNIST')"
   ]
  },
  {
   "cell_type": "code",
   "execution_count": 417,
   "metadata": {
    "collapsed": true
   },
   "outputs": [],
   "source": [
    "images_train, labels_train = mndata.load_training()\n",
    "images_test, labels_test = mndata.load_testing()\n",
    "images_train  = np.asarray(images_train)/255.\n",
    "images_test  = np.asarray(images_test)/255.\n",
    "labels_train = np.asarray(labels_train)\n",
    "labels_test = np.asarray(labels_test)"
   ]
  },
  {
   "cell_type": "code",
   "execution_count": 20,
   "metadata": {
    "collapsed": true
   },
   "outputs": [],
   "source": [
    "#Defining mean and sigma matrices for each classes and including smoothing factor for very less variance value  \n",
    "length = images_train.shape[1]\n",
    "mean = np.zeros((10, length))\n",
    "sigma = np.zeros((10, length))\n",
    "for k in range(10):\n",
    "    train_images_k = images_train[labels_train == k]\n",
    "    for i in range(length):\n",
    "        mean[k,i] = train_images_k[:,i].mean()\n",
    "        sigma[k,i] = train_images_k[:,i].std()\n",
    "        if sigma[k,i] <= 0.03 : sigma[k,i] = 0.03"
   ]
  },
  {
   "cell_type": "markdown",
   "metadata": {},
   "source": [
    "### Defining functions and performing Naive bayes"
   ]
  },
  {
   "cell_type": "code",
   "execution_count": 21,
   "metadata": {
    "collapsed": true
   },
   "outputs": [],
   "source": [
    "def prob_image(x, mu, sigma):\n",
    "    return np.exp(-(x - mu)**2./(2*sigma**2))"
   ]
  },
  {
   "cell_type": "code",
   "execution_count": 22,
   "metadata": {
    "collapsed": true
   },
   "outputs": [],
   "source": [
    "def predict(Img):\n",
    "    prob = np.zeros(10)\n",
    "    for i in range(10):\n",
    "        p = prob_image(Img, mean[i], sigma[i])\n",
    "        prob[i] = np.log(p).sum()\n",
    "    return int(np.argmax(prob))"
   ]
  },
  {
   "cell_type": "code",
   "execution_count": 82,
   "metadata": {},
   "outputs": [
    {
     "name": "stdout",
     "output_type": "stream",
     "text": [
      "Error: 1809\n",
      "Accuracy: 81.91\n"
     ]
    }
   ],
   "source": [
    "#Outputting total error and accuracy for images_test set\n",
    "err = 0\n",
    "pred = np.empty(len(labels_test))\n",
    "for i in range(len(images_test)):\n",
    "     pred[i] = predict(images_test[i])\n",
    "     if pred[i] != labels_test[i]:\n",
    "        err += 1\n",
    "print(\"Error:\", err)     \n",
    "print(\"Accuracy:\", (1-err/len(labels_test))*100)   "
   ]
  },
  {
   "cell_type": "code",
   "execution_count": 24,
   "metadata": {},
   "outputs": [
    {
     "name": "stdout",
     "output_type": "stream",
     "text": [
      "Predicted  0.0  1.0  2.0  3.0  4.0  5.0  6.0  7.0  8.0  9.0\n",
      "Actual                                                     \n",
      "0          887    0   18    3    3   27   12    1   29    0\n",
      "1            0  891   51    9    0   82    7    0   94    1\n",
      "2           14    0  901   21    7    8   18    8   54    1\n",
      "3            7    0   82  792    4   53    5   15   31   21\n",
      "4            7    0   27    2  721   66   13    5   51   90\n",
      "5           20    0   18   56   14  726   15    5   24   14\n",
      "6           12    1   33    0    2   37  856    0   17    0\n",
      "7            0    0   15   11   25   17    1  828   45   86\n",
      "8            8    1   31   23   16   92    5    4  770   24\n",
      "9            3    0    6   10   74   28    0   31   38  819\n",
      " \n",
      "Accuracy matrix from confusion matrix:\n",
      "[[ 90.5   0.    1.8   0.3   0.3   2.8   1.2   0.1   3.    0. ]\n",
      " [  0.   78.5   4.5   0.8   0.    7.2   0.6   0.    8.3   0.1]\n",
      " [  1.4   0.   87.3   2.    0.7   0.8   1.7   0.8   5.2   0.1]\n",
      " [  0.7   0.    8.1  78.4   0.4   5.2   0.5   1.5   3.1   2.1]\n",
      " [  0.7   0.    2.7   0.2  73.4   6.7   1.3   0.5   5.2   9.2]\n",
      " [  2.2   0.    2.    6.3   1.6  81.4   1.7   0.6   2.7   1.6]\n",
      " [  1.3   0.1   3.4   0.    0.2   3.9  89.4   0.    1.8   0. ]\n",
      " [  0.    0.    1.5   1.1   2.4   1.7   0.1  80.5   4.4   8.4]\n",
      " [  0.8   0.1   3.2   2.4   1.6   9.4   0.5   0.4  79.1   2.5]\n",
      " [  0.3   0.    0.6   1.    7.3   2.8   0.    3.1   3.8  81.2]]\n"
     ]
    }
   ],
   "source": [
    "#Output confusion matrix \n",
    "y_actu = pd.Series(labels_test, name='Actual')\n",
    "y_pred = pd.Series(pred, name='Predicted')\n",
    "df_confusion = pd.crosstab(y_actu, y_pred)\n",
    "print(df_confusion)\n",
    "\n",
    "print(\" \")\n",
    "print(\"Accuracy matrix from confusion matrix:\")\n",
    "p = confusion_matrix(y_actu, y_pred)\n",
    "a = np.zeros((p.shape))\n",
    "for i in range(10):\n",
    "    a[i] = np.float16(p[i])/p[i].sum()\n",
    "a = np.around(a, decimals=3)\n",
    "print(a*100)\n"
   ]
  },
  {
   "cell_type": "markdown",
   "metadata": {},
   "source": [
    "### Accuracy of individual classes can be seen in the diagonal elements of the above accuracy matrix"
   ]
  },
  {
   "cell_type": "code",
   "execution_count": 513,
   "metadata": {
    "scrolled": false
   },
   "outputs": [
    {
     "name": "stdout",
     "output_type": "stream",
     "text": [
      "Test digit: 7\n",
      "image of P(xi|c),i= 1,2,...,784 as a 28×28 image for c = 0\n"
     ]
    },
    {
     "data": {
      "image/png": "[encoded data removed]",
      "text/plain": [
       "<matplotlib.figure.Figure at 0x1a68acdbda0>"
      ]
     },
     "metadata": {},
     "output_type": "display_data"
    },
    {
     "name": "stdout",
     "output_type": "stream",
     "text": [
      "image of P(xi|c),i= 1,2,...,784 as a 28×28 image for c = 1\n"
     ]
    },
    {
     "data": {
      "image/png": "[encoded data removed]",
      "text/plain": [
       "<matplotlib.figure.Figure at 0x1a688353080>"
      ]
     },
     "metadata": {},
     "output_type": "display_data"
    },
    {
     "name": "stdout",
     "output_type": "stream",
     "text": [
      "image of P(xi|c),i= 1,2,...,784 as a 28×28 image for c = 2\n"
     ]
    },
    {
     "data": {
      "image/png": "[encoded data removed]",
      "text/plain": [
       "<matplotlib.figure.Figure at 0x1a6870a4470>"
      ]
     },
     "metadata": {},
     "output_type": "display_data"
    },
    {
     "name": "stdout",
     "output_type": "stream",
     "text": [
      "image of P(xi|c),i= 1,2,...,784 as a 28×28 image for c = 3\n"
     ]
    },
    {
     "data": {
      "image/png": "[encoded data removed]",
      "text/plain": [
       "<matplotlib.figure.Figure at 0x1a68a999d68>"
      ]
     },
     "metadata": {},
     "output_type": "display_data"
    },
    {
     "name": "stdout",
     "output_type": "stream",
     "text": [
      "image of P(xi|c),i= 1,2,...,784 as a 28×28 image for c = 4\n"
     ]
    },
    {
     "data": {
      "image/png": "[encoded data removed]",
      "text/plain": [
       "<matplotlib.figure.Figure at 0x1a68a8d26a0>"
      ]
     },
     "metadata": {},
     "output_type": "display_data"
    },
    {
     "name": "stdout",
     "output_type": "stream",
     "text": [
      "image of P(xi|c),i= 1,2,...,784 as a 28×28 image for c = 5\n"
     ]
    },
    {
     "data": {
      "image/png": "[encoded data removed]",
      "text/plain": [
       "<matplotlib.figure.Figure at 0x1a686d5c6a0>"
      ]
     },
     "metadata": {},
     "output_type": "display_data"
    },
    {
     "name": "stdout",
     "output_type": "stream",
     "text": [
      "image of P(xi|c),i= 1,2,...,784 as a 28×28 image for c = 6\n"
     ]
    },
    {
     "data": {
      "image/png": "[encoded data removed]",
      "text/plain": [
       "<matplotlib.figure.Figure at 0x1a686199860>"
      ]
     },
     "metadata": {},
     "output_type": "display_data"
    },
    {
     "name": "stdout",
     "output_type": "stream",
     "text": [
      "image of P(xi|c),i= 1,2,...,784 as a 28×28 image for c = 7\n"
     ]
    },
    {
     "data": {
      "image/png": "[encoded data removed]",
      "text/plain": [
       "<matplotlib.figure.Figure at 0x1a68ab186a0>"
      ]
     },
     "metadata": {},
     "output_type": "display_data"
    },
    {
     "name": "stdout",
     "output_type": "stream",
     "text": [
      "image of P(xi|c),i= 1,2,...,784 as a 28×28 image for c = 8\n"
     ]
    },
    {
     "data": {
      "image/png": "[encoded data removed]",
      "text/plain": [
       "<matplotlib.figure.Figure at 0x1a688304da0>"
      ]
     },
     "metadata": {},
     "output_type": "display_data"
    },
    {
     "name": "stdout",
     "output_type": "stream",
     "text": [
      "image of P(xi|c),i= 1,2,...,784 as a 28×28 image for c = 9\n"
     ]
    },
    {
     "data": {
      "image/png": "[encoded data removed]",
      "text/plain": [
       "<matplotlib.figure.Figure at 0x1a686a4e550>"
      ]
     },
     "metadata": {},
     "output_type": "display_data"
    }
   ],
   "source": [
    "#Displaying the probabilities for the classes as 28*28 images\n",
    "Img = images_test[0]\n",
    "print(\"Test digit:\",labels_test[0])\n",
    "p = np.empty([10,len(Img)])\n",
    "for i in range(10):\n",
    "    p[i] = prob_image(Img, mean[i], sigma[i])\n",
    "    print(\"image of P(xi|c),i= 1,2,...,784 as a 28×28 image for c =\", i)\n",
    "    data = np.reshape(p[i], (28, 28))\n",
    "    plt.imshow(data)\n",
    "    plt.show()"
   ]
  },
  {
   "cell_type": "markdown",
   "metadata": {},
   "source": [
    "### Results\n",
    "1. Both Confusion matrix and accuracy matrix are are shown as output and we observe a maximum accuracy of 90.5 for zero digit and minimum of 73.4 for digit 4. \n",
    "2. Images are shown for example prediction of 7 for all classes. We can see that colour yellow shows highest probability pixels and the probability value decreases with the intensity of blue colour. So the pixels overlapping with the test digit 7 have yellow colour in P(x/c=7).\n",
    "3. Also, we can see the corresponding digit in each class image is blue as the probablity of the pixels in those areas is minimum as there is no corresponding pixel in 7."
   ]
  },
  {
   "cell_type": "markdown",
   "metadata": {},
   "source": [
    "### Logistic Regression on MNIST data"
   ]
  },
  {
   "cell_type": "code",
   "execution_count": 506,
   "metadata": {
    "collapsed": true
   },
   "outputs": [],
   "source": [
    "def cost(train_img, W, y, lamda):\n",
    "    m =1 \n",
    "    P = train_img.dot(W.T)\n",
    "    return (1/m)*(np.log(1+np.exp(-y*P)).sum() + (lamda/2)*(W.dot(W.T)))"
   ]
  },
  {
   "cell_type": "code",
   "execution_count": 520,
   "metadata": {
    "collapsed": true
   },
   "outputs": [],
   "source": [
    "def sigmoid(x, y, W):\n",
    "    p = x.dot(W.T)\n",
    "    return 1/(1 + np.exp((-y*p)))#1/(1 + np.exp((-y*p).sum(axis=1)))"
   ]
  },
  {
   "cell_type": "code",
   "execution_count": 522,
   "metadata": {
    "collapsed": true
   },
   "outputs": [],
   "source": [
    "def diff_descent(x, y, W, lamda):\n",
    "    m = 1\n",
    "    p = sigmoid(x, y, W)\n",
    "    #y = y.reshape(60000,1)\n",
    "    #c= (1-p).reshape(60000,1)\n",
    "    return -(1/m)*((y*(1-p)).dot(x)) + (1/m)*lamda*W "
   ]
  },
  {
   "cell_type": "code",
   "execution_count": 523,
   "metadata": {
    "collapsed": true
   },
   "outputs": [],
   "source": [
    "#Implementing the logistic regression by updating the W using gradient descent\n",
    "def logistic_regression(images_train, labels_train, c, lamda, learning_rate):\n",
    "    train_images_c = images_train[labels_train == c]\n",
    "    y_c = np.ones((len(train_images_c)))\n",
    "\n",
    "    train_images_notc = images_train[labels_train != c]\n",
    "    y_notc = -1*np.ones((len(train_images_notc)))\n",
    "\n",
    "    W = np.ones(images_train.shape[1])\n",
    "\n",
    "    train_images = np.vstack((train_images_c,train_images_notc))\n",
    "    y = np.concatenate((y_c, y_notc), axis=0)\n",
    "\n",
    "    L=[]\n",
    "    for i in range(500):\n",
    "        L.append(cost(train_images, W, y, lamda))\n",
    "        W -= learning_rate*diff_descent(train_images, y, W, lamda)\n",
    "    return W, L\n"
   ]
  },
  {
   "cell_type": "code",
   "execution_count": 517,
   "metadata": {},
   "outputs": [
    {
     "name": "stderr",
     "output_type": "stream",
     "text": [
      "C:\\Users\\ddanda\\AppData\\Local\\Continuum\\anaconda3\\lib\\site-packages\\ipykernel_launcher.py:4: RuntimeWarning: overflow encountered in exp\n",
      "  after removing the cwd from sys.path.\n",
      "C:\\Users\\ddanda\\AppData\\Local\\Continuum\\anaconda3\\lib\\site-packages\\ipykernel_launcher.py:5: RuntimeWarning: overflow encountered in exp\n",
      "  \"\"\"\n"
     ]
    }
   ],
   "source": [
    "#Performimg logistic regression and getting classifiers for each of 10 classes\n",
    "#Adding coloumn of ones in first coloumn of images_train\n",
    "X0 = np.ones((len(labels_train),1))\n",
    "\n",
    "images_train1 = np.hstack((X0,images_train))\n",
    "W_c = np.ones([10,images_train1.shape[1]])\n",
    "L_c = []\n",
    "lamda = 1\n",
    "learning_rate = 0.001\n",
    "for c in range(10):\n",
    "    W_c[c], L = logistic_regression(images_train1, labels_train, c, lamda, learning_rate)\n",
    "    L_c.append(L)"
   ]
  },
  {
   "cell_type": "code",
   "execution_count": 525,
   "metadata": {
    "collapsed": true
   },
   "outputs": [],
   "source": [
    "def test_predict(images_test, labels_test, c, W):\n",
    "    X0 = np.ones((len(labels_test),1))\n",
    "\n",
    "    images_test1 = np.hstack((X0,images_test))\n",
    "    p = sigmoid(images_test1, np.array([1]), W)\n",
    "    t = -1*np.ones(len(images_test1))\n",
    "    t[np.where(labels_test == c)[0]] = 1\n",
    "    #mat = []\n",
    "    pred = np.zeros(len(images_test1))\n",
    "    err = 0\n",
    "    for i in range(len(images_test1)):\n",
    "        if p[i] > 0.5:\n",
    "            pred[i] = 1\n",
    "        else:\n",
    "            pred[i] = -1\n",
    "        if pred[i] != t[i]:\n",
    "            err += 1\n",
    "            #mat.append(i)\n",
    "    Total = labels_test[labels_test == c].shape[0]\n",
    "    print(\"Prediction error =\",err, \"of total =\", Total)\n",
    "    acc = (1- err/Total)*100\n",
    "    print(\"Accuracy = \",acc)\n",
    "    return err \n"
   ]
  },
  {
   "cell_type": "code",
   "execution_count": 543,
   "metadata": {},
   "outputs": [
    {
     "name": "stdout",
     "output_type": "stream",
     "text": [
      "For class: 0\n"
     ]
    },
    {
     "ename": "ValueError",
     "evalue": "The truth value of an array with more than one element is ambiguous. Use a.any() or a.all()",
     "output_type": "error",
     "traceback": [
      "\u001b[1;31m---------------------------------------------------------------------------\u001b[0m",
      "\u001b[1;31mValueError\u001b[0m                                Traceback (most recent call last)",
      "\u001b[1;32m<ipython-input-543-4afa85739e73>\u001b[0m in \u001b[0;36m<module>\u001b[1;34m()\u001b[0m\n\u001b[0;32m      1\u001b[0m \u001b[1;32mfor\u001b[0m \u001b[0mi\u001b[0m \u001b[1;32min\u001b[0m \u001b[0mrange\u001b[0m\u001b[1;33m(\u001b[0m\u001b[1;36m10\u001b[0m\u001b[1;33m)\u001b[0m\u001b[1;33m:\u001b[0m\u001b[1;33m\u001b[0m\u001b[0m\n\u001b[0;32m      2\u001b[0m     \u001b[0mprint\u001b[0m\u001b[1;33m(\u001b[0m\u001b[1;34m\"For class:\"\u001b[0m\u001b[1;33m,\u001b[0m\u001b[0mi\u001b[0m\u001b[1;33m)\u001b[0m\u001b[1;33m\u001b[0m\u001b[0m\n\u001b[1;32m----> 3\u001b[1;33m     \u001b[0mtest_predict\u001b[0m\u001b[1;33m(\u001b[0m\u001b[0mimages_test\u001b[0m\u001b[1;33m,\u001b[0m \u001b[0mlabels_test\u001b[0m\u001b[1;33m,\u001b[0m \u001b[0mi\u001b[0m\u001b[1;33m,\u001b[0m \u001b[0mQ\u001b[0m\u001b[1;33m)\u001b[0m\u001b[1;33m\u001b[0m\u001b[0m\n\u001b[0m",
      "\u001b[1;32m<ipython-input-525-9218a14ee45c>\u001b[0m in \u001b[0;36mtest_predict\u001b[1;34m(images_test, labels_test, c, W)\u001b[0m\n\u001b[0;32m     10\u001b[0m     \u001b[0merr\u001b[0m \u001b[1;33m=\u001b[0m \u001b[1;36m0\u001b[0m\u001b[1;33m\u001b[0m\u001b[0m\n\u001b[0;32m     11\u001b[0m     \u001b[1;32mfor\u001b[0m \u001b[0mi\u001b[0m \u001b[1;32min\u001b[0m \u001b[0mrange\u001b[0m\u001b[1;33m(\u001b[0m\u001b[0mlen\u001b[0m\u001b[1;33m(\u001b[0m\u001b[0mimages_test1\u001b[0m\u001b[1;33m)\u001b[0m\u001b[1;33m)\u001b[0m\u001b[1;33m:\u001b[0m\u001b[1;33m\u001b[0m\u001b[0m\n\u001b[1;32m---> 12\u001b[1;33m         \u001b[1;32mif\u001b[0m \u001b[0mp\u001b[0m\u001b[1;33m[\u001b[0m\u001b[0mi\u001b[0m\u001b[1;33m]\u001b[0m \u001b[1;33m>\u001b[0m \u001b[1;36m0.5\u001b[0m\u001b[1;33m:\u001b[0m\u001b[1;33m\u001b[0m\u001b[0m\n\u001b[0m\u001b[0;32m     13\u001b[0m             \u001b[0mpred\u001b[0m\u001b[1;33m[\u001b[0m\u001b[0mi\u001b[0m\u001b[1;33m]\u001b[0m \u001b[1;33m=\u001b[0m \u001b[1;36m1\u001b[0m\u001b[1;33m\u001b[0m\u001b[0m\n\u001b[0;32m     14\u001b[0m         \u001b[1;32melse\u001b[0m\u001b[1;33m:\u001b[0m\u001b[1;33m\u001b[0m\u001b[0m\n",
      "\u001b[1;31mValueError\u001b[0m: The truth value of an array with more than one element is ambiguous. Use a.any() or a.all()"
     ]
    }
   ],
   "source": [
    "for i in range(10):\n",
    "    print(\"For class:\",i)\n",
    "    test_predict(images_test, labels_test, i, Q)"
   ]
  },
  {
   "cell_type": "markdown",
   "metadata": {},
   "source": [
    "Derivation for regularized gradient descent used in my program"
   ]
  },
  {
   "cell_type": "markdown",
   "metadata": {},
   "source": [
    "### $$L(w) =  \\sum_{i=1}^{N} ln \\left \\{   1 \\ + exp(-y_{i}W^{T}X_{i})\\right \\} + \\frac{\\lambda}{2}|W|_{2}^{2}$$\n",
    "### $$\\nabla L(w) =  \\sum_{i=1}^{N} \\frac{-y_{i}X_{i} \\ exp(-y_{i}W^{T}X_{i})}{1 \\ + exp(-y_{i}W^{T}X_{i})} \\ + \\ \\lambda W$$\n",
    "### $$W_{t+1} = W_{t} \\ - \\ \\eta_{t} \\nabla L(w)$$"
   ]
  },
  {
   "cell_type": "code",
   "execution_count": 515,
   "metadata": {
    "collapsed": true
   },
   "outputs": [],
   "source": [
    "Q = W_c"
   ]
  },
  {
   "cell_type": "code",
   "execution_count": 518,
   "metadata": {
    "collapsed": true
   },
   "outputs": [],
   "source": [
    "def log_reg_acc(images_test, W_c):\n",
    "    pred = np.empty(len(images_test))\n",
    "    for i in range(len(images_test)):\n",
    "        prob = np.zeros(10)\n",
    "        for j in range(len(W_c)):\n",
    "            prob[j] = sigmoid(images_test[i], 1, W_c[j])\n",
    "        pred[i] = np.argmax(prob)\n",
    "    return pred"
   ]
  },
  {
   "cell_type": "code",
   "execution_count": 526,
   "metadata": {},
   "outputs": [
    {
     "name": "stderr",
     "output_type": "stream",
     "text": [
      "C:\\Users\\ddanda\\AppData\\Local\\Continuum\\anaconda3\\lib\\site-packages\\ipykernel_launcher.py:3: RuntimeWarning: overflow encountered in exp\n",
      "  This is separate from the ipykernel package so we can avoid doing imports until\n"
     ]
    }
   ],
   "source": [
    "X0 = np.ones((len(labels_test),1))\n",
    "\n",
    "images_test1 = np.hstack((X0,images_test))\n",
    "pred = log_reg_acc(images_test1, W_c)"
   ]
  },
  {
   "cell_type": "code",
   "execution_count": 527,
   "metadata": {},
   "outputs": [
    {
     "data": {
      "text/plain": [
       "(10000,)"
      ]
     },
     "execution_count": 527,
     "metadata": {},
     "output_type": "execute_result"
    }
   ],
   "source": [
    "pred.shape"
   ]
  },
  {
   "cell_type": "code",
   "execution_count": 528,
   "metadata": {},
   "outputs": [
    {
     "name": "stdout",
     "output_type": "stream",
     "text": [
      "Predicted  0.0   1.0  2.0  3.0  4.0  5.0  6.0  7.0  8.0  9.0\n",
      "Actual                                                      \n",
      "0          959     0    3    3    0    5    7    2    1    0\n",
      "1            0  1089   16   10    1   14    4    1    0    0\n",
      "2            8    24  887   33   12   19   12   19   11    7\n",
      "3            4     0   15  920    1   52    3    7    2    6\n",
      "4            1     6    6    6  903    9   13    1    2   35\n",
      "5           11     3    2   29    6  822   10    0    7    2\n",
      "6           13     5   14    5    9   51  861    0    0    0\n",
      "7            5     7   21   20    7    8    1  931    0   28\n",
      "8           12    74    9  121    8  294    9   12  422   13\n",
      "9            8    13    7   25   52   49    0   33    0  822\n",
      " \n",
      "Accuracy matrix from confusion matrix:\n",
      "[[ 97.9   0.    0.3   0.3   0.    0.5   0.7   0.2   0.1   0. ]\n",
      " [  0.   95.9   1.4   0.9   0.1   1.2   0.4   0.1   0.    0. ]\n",
      " [  0.8   2.3  85.9   3.2   1.2   1.8   1.2   1.8   1.1   0.7]\n",
      " [  0.4   0.    1.5  91.1   0.1   5.1   0.3   0.7   0.2   0.6]\n",
      " [  0.1   0.6   0.6   0.6  92.    0.9   1.3   0.1   0.2   3.6]\n",
      " [  1.2   0.3   0.2   3.3   0.7  92.2   1.1   0.    0.8   0.2]\n",
      " [  1.4   0.5   1.5   0.5   0.9   5.3  89.9   0.    0.    0. ]\n",
      " [  0.5   0.7   2.    1.9   0.7   0.8   0.1  90.6   0.    2.7]\n",
      " [  1.2   7.6   0.9  12.4   0.8  30.2   0.9   1.2  43.3   1.3]\n",
      " [  0.8   1.3   0.7   2.5   5.2   4.9   0.    3.3   0.   81.5]]\n"
     ]
    }
   ],
   "source": [
    "#Output confusion matrix \n",
    "y_actu = pd.Series(labels_test, name='Actual')\n",
    "y_pred = pd.Series(pred, name='Predicted')\n",
    "df_confusion = pd.crosstab(y_actu, y_pred)\n",
    "print(df_confusion)\n",
    "\n",
    "print(\" \")\n",
    "print(\"Accuracy matrix from confusion matrix:\")\n",
    "p = confusion_matrix(y_actu, y_pred)\n",
    "a = np.zeros((p.shape))\n",
    "for i in range(10):\n",
    "    a[i] = np.float16(p[i])/p[i].sum()\n",
    "a = np.around(a, decimals=3)\n",
    "print(a*100)"
   ]
  },
  {
   "cell_type": "code",
   "execution_count": 537,
   "metadata": {},
   "outputs": [
    {
     "name": "stdout",
     "output_type": "stream",
     "text": [
      "Accuracy for logistic Regression: 86.16\n"
     ]
    }
   ],
   "source": [
    "Accuracy = np.trace(p)\n",
    "print(\"Accuracy for logistic Regression:\",(Accuracy/10000)*100)"
   ]
  },
  {
   "cell_type": "code",
   "execution_count": 540,
   "metadata": {
    "scrolled": false
   },
   "outputs": [
    {
     "name": "stdout",
     "output_type": "stream",
     "text": [
      "Weight matrix of class 0 in image\n"
     ]
    },
    {
     "data": {
      "image/png": "[encoded data removed]",
      "text/plain": [
       "<matplotlib.figure.Figure at 0x1a685ff18d0>"
      ]
     },
     "metadata": {},
     "output_type": "display_data"
    },
    {
     "name": "stdout",
     "output_type": "stream",
     "text": [
      "Weight matrix of class 1 in image\n"
     ]
    },
    {
     "data": {
      "image/png": "[encoded data removed]",
      "text/plain": [
       "<matplotlib.figure.Figure at 0x1a685f904e0>"
      ]
     },
     "metadata": {},
     "output_type": "display_data"
    },
    {
     "name": "stdout",
     "output_type": "stream",
     "text": [
      "Weight matrix of class 2 in image\n"
     ]
    },
    {
     "data": {
      "image/png": "[encoded data removed]",
      "text/plain": [
       "<matplotlib.figure.Figure at 0x1a686098f60>"
      ]
     },
     "metadata": {},
     "output_type": "display_data"
    },
    {
     "name": "stdout",
     "output_type": "stream",
     "text": [
      "Weight matrix of class 3 in image\n"
     ]
    },
    {
     "data": {
      "image/png": "[encoded data removed]",
      "text/plain": [
       "<matplotlib.figure.Figure at 0x1a68613b208>"
      ]
     },
     "metadata": {},
     "output_type": "display_data"
    },
    {
     "name": "stdout",
     "output_type": "stream",
     "text": [
      "Weight matrix of class 4 in image\n"
     ]
    },
    {
     "data": {
      "image/png": "[encoded data removed]",
      "text/plain": [
       "<matplotlib.figure.Figure at 0x1a6860e2048>"
      ]
     },
     "metadata": {},
     "output_type": "display_data"
    },
    {
     "name": "stdout",
     "output_type": "stream",
     "text": [
      "Weight matrix of class 5 in image\n"
     ]
    },
    {
     "data": {
      "image/png": "[encoded data removed]",
      "text/plain": [
       "<matplotlib.figure.Figure at 0x1a68a8b34e0>"
      ]
     },
     "metadata": {},
     "output_type": "display_data"
    },
    {
     "name": "stdout",
     "output_type": "stream",
     "text": [
      "Weight matrix of class 6 in image\n"
     ]
    },
    {
     "data": {
      "image/png": "[encoded data removed]",
      "text/plain": [
       "<matplotlib.figure.Figure at 0x1a686098e10>"
      ]
     },
     "metadata": {},
     "output_type": "display_data"
    },
    {
     "name": "stdout",
     "output_type": "stream",
     "text": [
      "Weight matrix of class 7 in image\n"
     ]
    },
    {
     "data": {
      "image/png": "[encoded data removed]",
      "text/plain": [
       "<matplotlib.figure.Figure at 0x1a6870c3470>"
      ]
     },
     "metadata": {},
     "output_type": "display_data"
    },
    {
     "name": "stdout",
     "output_type": "stream",
     "text": [
      "Weight matrix of class 8 in image\n"
     ]
    },
    {
     "data": {
      "image/png": "[encoded data removed]",
      "text/plain": [
       "<matplotlib.figure.Figure at 0x1a688314080>"
      ]
     },
     "metadata": {},
     "output_type": "display_data"
    },
    {
     "name": "stdout",
     "output_type": "stream",
     "text": [
      "Weight matrix of class 9 in image\n"
     ]
    },
    {
     "data": {
      "image/png": "[encoded data removed]",
      "text/plain": [
       "<matplotlib.figure.Figure at 0x1a688304ba8>"
      ]
     },
     "metadata": {},
     "output_type": "display_data"
    }
   ],
   "source": [
    "#Displaying the weight matrices for the classes as 28*28 images\n",
    "for i in range(10):\n",
    "    p = W_c[i][1:]\n",
    "    data = np.reshape(p, (28, 28))\n",
    "    plt.imshow(data)\n",
    "    print(\"Weight matrix of class\", i, \"in image\")\n",
    "    plt.show()"
   ]
  },
  {
   "cell_type": "markdown",
   "metadata": {},
   "source": [
    "### Results:\n",
    "1. Weight matrices are shown as images for all the classes and we can see the pattern of the class digit in the images. The pattern is more visible for the class digits with higher accuracy.\n",
    "2. Seperate classifiers are built for each class using one Vs rest method and then each test image is predicted by using these classifiers and selecting one with highest probability value.\n",
    "3. We can see the accuracy of logistic regression of 86.16 to be better than the accuracy of Naive bayes which is 81.9."
   ]
  },
  {
   "cell_type": "code",
   "execution_count": null,
   "metadata": {
    "collapsed": true
   },
   "outputs": [],
   "source": []
  }
 ],
 "metadata": {
  "kernelspec": {
   "display_name": "Python 2",
   "language": "python",
   "name": "python2"
  },
  "language_info": {
   "codemirror_mode": {
    "name": "ipython",
    "version": 2
   },
   "file_extension": ".py",
   "mimetype": "text/x-python",
   "name": "python",
   "nbconvert_exporter": "python",
   "pygments_lexer": "ipython2",
   "version": "2.7.13"
  }
 },
 "nbformat": 4,
 "nbformat_minor": 2
}
